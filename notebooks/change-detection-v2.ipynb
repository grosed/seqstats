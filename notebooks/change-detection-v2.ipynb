{
 "cells": [
  {
   "cell_type": "code",
   "execution_count": 1,
   "id": "4fb936c6-8358-404c-925d-45871d54db89",
   "metadata": {},
   "outputs": [],
   "source": [
    "from sortedcontainers import SortedList as ost\n",
    "from math import floor,ceil,log,sqrt\n",
    "from collections import deque\n",
    "import numpy as np\n",
    "from statistics import mean,variance\n",
    "import matplotlib.pyplot as plt\n",
    "from dataclasses import dataclass\n",
    "from typing import Callable"
   ]
  },
  {
   "cell_type": "code",
   "execution_count": 2,
   "id": "d17e00d9-8de0-49a2-87db-2311f63686fb",
   "metadata": {},
   "outputs": [],
   "source": [
    "from dataclasses import dataclass"
   ]
  },
  {
   "cell_type": "code",
   "execution_count": 2,
   "id": "6c732a69-ff2a-4e6f-b748-350073c8144d",
   "metadata": {},
   "outputs": [],
   "source": [
    "class normal_mean :\n",
    "    def __init__(self,wsize) :\n",
    "        if wsize != None : wsize += 1\n",
    "        self.Y = deque([0.0],maxlen = wsize)\n",
    "        self.SY = deque([0.0],maxlen = wsize)\n",
    "        self.SYY = deque([0.0],maxlen = wsize)\n",
    "    def push(self,y) :\n",
    "        self.Y.append(y)\n",
    "        self.SY.append(y + self.SY[-1])\n",
    "        self.SYY.append(y*y + self.SYY[-1])\n",
    "        # TODO - if Y is full - normalize\n",
    "    def size(self) :\n",
    "        return len(self.Y) - 1\n",
    "    def __call__(self,a,b) :\n",
    "        val = self.SY[b+1] - self.SY[a]\n",
    "        val *= val\n",
    "        val /= (b - a + 1)\n",
    "        val = -val\n",
    "        val += self.SYY[b+1] - self.SYY[a]\n",
    "        return val"
   ]
  },
  {
   "cell_type": "code",
   "execution_count": 3,
   "id": "04195ced-be34-4450-812d-4f1868b88176",
   "metadata": {},
   "outputs": [],
   "source": [
    "def class_left_right_sum(segment_cost_function) :\n",
    "    def domain() : \n",
    "        return range(segment_cost_function.size())\n",
    "    def value(i) :\n",
    "        if i == 0 :\n",
    "            return segment_cost_function(0,segment_cost_function.size()-1)\n",
    "        else :\n",
    "            return segment_cost_function(0,i-1) + segment_cost_function(i,segment_cost_function.size()-1)\n",
    "    return (value,domain)"
   ]
  },
  {
   "cell_type": "markdown",
   "id": "9ab4dcec-8189-4942-b251-d2e060dcdd4f",
   "metadata": {},
   "source": [
    "## detect a changepoint"
   ]
  },
  {
   "cell_type": "code",
   "execution_count": 4,
   "id": "fbe3babf-c591-4b91-91c1-d0ba5d8fb607",
   "metadata": {},
   "outputs": [],
   "source": [
    "def class_amoc(cost_function) :\n",
    "    def update(value,beta) :\n",
    "        cost_function.push(value)\n",
    "        value,domain = class_left_right_sum(cost_function)\n",
    "        cost,location = min([(value(i),i) for i in domain()])\n",
    "        if value(0) - cost > beta :\n",
    "            return cost,location\n",
    "        return value(0),0\n",
    "    return update"
   ]
  },
  {
   "cell_type": "code",
   "execution_count": 5,
   "id": "a134be9e-c8e0-4968-a9e6-6a04d3542db1",
   "metadata": {},
   "outputs": [],
   "source": [
    "Z = list(np.random.normal(0, 1, 1000)) + list(np.random.normal(1, 1, 1000)) # + list(np.random.normal(0, 1, 1000))\n",
    "mu = mean(Z)\n",
    "sigma = sqrt(variance(Z))\n",
    "Z = [float((z - mu)/sigma) for z in Z]\n",
    "wsize = int(len(Z)/2)\n",
    "beta = 2*log(wsize)\n",
    "\n",
    "method = class_amoc(normal_mean(wsize))\n",
    "iter = 0\n",
    "for z in Z :\n",
    "    value,location = method(z,beta)\n",
    "    if location != 0 :\n",
    "        msg = \"change detected at iteration \" + str(iter) + \" located at \" + str(location)\n",
    "        #print(msg)\n",
    "    iter += 1"
   ]
  },
  {
   "cell_type": "markdown",
   "id": "2891de4d-b0af-414f-809c-5c53b3604ab5",
   "metadata": {},
   "source": [
    "## optimal partitioning"
   ]
  },
  {
   "cell_type": "code",
   "execution_count": 6,
   "id": "3ace75b1-5688-445d-8edc-f3f56f00cd3d",
   "metadata": {},
   "outputs": [],
   "source": [
    "def fix_left(cost_function,position) :\n",
    "    def value(i) :\n",
    "        return cost_function(position,i)\n",
    "    def size() :\n",
    "        return cost_function.size()\n",
    "    def domain(self) :\n",
    "        return range(size())\n",
    "    return(value,domain,size)"
   ]
  },
  {
   "cell_type": "code",
   "execution_count": 7,
   "id": "8a817b84-6c54-4963-814e-1d11a2928b7d",
   "metadata": {},
   "outputs": [],
   "source": [
    "def fix_right(cost_function,position) :\n",
    "    def value(i) :\n",
    "        return cost_function(i,position)\n",
    "    def size() :\n",
    "        return cost_function.size()\n",
    "    def domain(self) :\n",
    "        return range(size())\n",
    "    return(value,domain,size)"
   ]
  },
  {
   "cell_type": "code",
   "execution_count": 8,
   "id": "10b4017d-c8ae-49cf-bdeb-c535f5d954d4",
   "metadata": {},
   "outputs": [],
   "source": [
    "def left_right_sum(left,right) :\n",
    "    value_l,domain,size = left\n",
    "    value_r,_,_ = right\n",
    "    def value(i) :\n",
    "        if i == 0 :\n",
    "            return value_r(i)\n",
    "        else :\n",
    "            return value_l(i) + value_r(i)\n",
    "    return(value,domain,size)\n",
    "    "
   ]
  },
  {
   "cell_type": "code",
   "execution_count": 9,
   "id": "3170814b-39b8-4442-8f92-b6b89ff4a9c8",
   "metadata": {},
   "outputs": [
    {
     "ename": "SyntaxError",
     "evalue": "invalid syntax (2388118503.py, line 3)",
     "output_type": "error",
     "traceback": [
      "\u001b[0;36m  Cell \u001b[0;32mIn[9], line 3\u001b[0;36m\u001b[0m\n\u001b[0;31m    left_right_sum = lambda l,r : lambda i :\u001b[0m\n\u001b[0m                                             ^\u001b[0m\n\u001b[0;31mSyntaxError\u001b[0m\u001b[0;31m:\u001b[0m invalid syntax\n"
     ]
    }
   ],
   "source": [
    "fix_left = lambda f : (lambda i : f[0](0,i), f[1], f[2]) \n",
    "fix_right = lambda f : (lambda i : f[0](i,f[2]()-1), f[1], f[2]) \n",
    "left_right_sum = lambda l,r : lambda i : "
   ]
  },
  {
   "cell_type": "code",
   "execution_count": null,
   "id": "283544cd-32c5-48b4-b553-f8d67ed673fe",
   "metadata": {},
   "outputs": [],
   "source": []
  },
  {
   "cell_type": "code",
   "execution_count": null,
   "id": "ed8ac67d-c146-4b47-bf17-c240ef8a08ab",
   "metadata": {},
   "outputs": [],
   "source": []
  },
  {
   "cell_type": "code",
   "execution_count": null,
   "id": "88937483-074d-4f7f-9949-0df953389504",
   "metadata": {},
   "outputs": [],
   "source": [
    "f = lambda x : 2*x\n",
    "g = lambda x : 3*x\n",
    "h = lambda f : lambda x : f(x)\n"
   ]
  },
  {
   "cell_type": "code",
   "execution_count": null,
   "id": "71c4cce6-8e7f-4831-a69d-62406a777799",
   "metadata": {},
   "outputs": [],
   "source": [
    "t = h(f)"
   ]
  },
  {
   "cell_type": "code",
   "execution_count": null,
   "id": "6417160b-61b1-4744-9b9c-44643fe3de02",
   "metadata": {},
   "outputs": [],
   "source": [
    "t(2)"
   ]
  },
  {
   "cell_type": "code",
   "execution_count": null,
   "id": "a1b0d510-078f-4a37-9934-2f53728ff114",
   "metadata": {},
   "outputs": [],
   "source": [
    "f = lambda x : 5*x"
   ]
  },
  {
   "cell_type": "code",
   "execution_count": null,
   "id": "01bff292-539e-4447-9c06-bd790fd4f5bc",
   "metadata": {},
   "outputs": [],
   "source": [
    "def class_left_right_sum(segment_cost_function) :\n",
    "    def domain() : \n",
    "        return range(segment_cost_function.size())\n",
    "    def value(i) :\n",
    "        if i == 0 :\n",
    "            return segment_cost_function(0,segment_cost_function.size()-1)\n",
    "        else :\n",
    "            return segment_cost_function(0,i-1) + segment_cost_function(i,segment_cost_function.size()-1)\n",
    "    return (value,domain)"
   ]
  },
  {
   "cell_type": "code",
   "execution_count": null,
   "id": "5451ba09-cbb1-4e37-8076-9311c129e7e4",
   "metadata": {},
   "outputs": [],
   "source": [
    "class fix_left :\n",
    "    def __init__(self,cost_function,position) :\n",
    "        self.cost_function = cost_function\n",
    "    def __call__(self,i) :\n",
    "        return cost_function(position,i)\n",
    "    def size(self) :\n",
    "        return cost_function.size()\n",
    "    def domain(self) :\n",
    "        return range(self.size())"
   ]
  },
  {
   "cell_type": "code",
   "execution_count": null,
   "id": "6071449f-aa15-4c8e-a055-3ed671776d9a",
   "metadata": {},
   "outputs": [],
   "source": [
    "class fix_right :\n",
    "    def __init__(self,cost_function,position) :\n",
    "        self.cost_function = cost_function\n",
    "    def __call__(self,i) :\n",
    "        return cost_function(i,position)\n",
    "    def size(self) :\n",
    "        return cost_function.size()\n",
    "    def domain(self) :\n",
    "        return range(self.size())"
   ]
  },
  {
   "cell_type": "code",
   "execution_count": null,
   "id": "7bccab21-3c47-448b-bbf5-55992ca0440f",
   "metadata": {},
   "outputs": [],
   "source": [
    "def class_left_right_sum_new(left,right) :\n",
    "    def domain(self) : \n",
    "        return range(left.size())\n",
    "    def value(self.i) :\n",
    "        if i == 0 :\n",
    "            return right(0)\n",
    "        else :\n",
    "            return left(i-1) + right(i)\n",
    "    return (value,domain)\n",
    "    "
   ]
  },
  {
   "cell_type": "code",
   "execution_count": null,
   "id": "98279c2c-0cdc-4c67-ac7a-8d0910c703e9",
   "metadata": {},
   "outputs": [],
   "source": [
    "class history :\n",
    "    def __init__(self,wsize) :\n",
    "        self.wsize = wsize\n",
    "        self.F = deque(maxlen = wsize)\n",
    "    def push(self,val) :\n",
    "        self.F.append(val)\n",
    "        # TODO if F is full - normalize\n",
    "    def __call__(self,i) :\n",
    "        return self.F[i]\n",
    "    def size(self) :\n",
    "        return len(self.F)\n",
    "    def domain(self) :\n",
    "        return range(self.size())\n",
    "        "
   ]
  },
  {
   "cell_type": "code",
   "execution_count": null,
   "id": "91cab199-b869-4bcf-b409-d56f0a0f3fb0",
   "metadata": {},
   "outputs": [],
   "source": [
    "H = history(5)"
   ]
  },
  {
   "cell_type": "code",
   "execution_count": null,
   "id": "1bad59fe-298f-4ecd-9f61-5823a6d942ae",
   "metadata": {},
   "outputs": [],
   "source": [
    "for i in range(10) :\n",
    "    H.push((i,2*i))"
   ]
  },
  {
   "cell_type": "code",
   "execution_count": null,
   "id": "786f3a33-d827-4cb3-879a-58930d634e82",
   "metadata": {},
   "outputs": [],
   "source": [
    "for i in H.domain() :\n",
    "    print(H(i))"
   ]
  },
  {
   "cell_type": "code",
   "execution_count": null,
   "id": "442b6af5-abf7-403c-8cd4-4c96350b8a3b",
   "metadata": {},
   "outputs": [],
   "source": []
  },
  {
   "cell_type": "code",
   "execution_count": null,
   "id": "bacab9b4-d180-4aea-b3f3-cb9270f6d782",
   "metadata": {},
   "outputs": [],
   "source": []
  },
  {
   "cell_type": "code",
   "execution_count": null,
   "id": "9a021982-4422-4a85-addd-2c5097755eed",
   "metadata": {},
   "outputs": [],
   "source": []
  },
  {
   "cell_type": "code",
   "execution_count": null,
   "id": "946e1705-66bd-4cda-b011-9f4004b696a4",
   "metadata": {},
   "outputs": [],
   "source": [
    "from dataclasses import dataclass\n",
    "from typing import Callable"
   ]
  },
  {
   "cell_type": "code",
   "execution_count": 3,
   "id": "6f013adb-ada8-4cdd-b821-d34787194386",
   "metadata": {},
   "outputs": [],
   "source": [
    "@dataclass\n",
    "class function :\n",
    "    method : Callable[[int], float]\n",
    "    domain : range\n",
    "    size : int\n",
    "    \n",
    "    "
   ]
  },
  {
   "cell_type": "code",
   "execution_count": 36,
   "id": "7c6ba520-3ab9-4a20-bdf3-db6ecd5f0a6a",
   "metadata": {},
   "outputs": [],
   "source": [
    "@dataclass\n",
    "class moments :\n",
    "    y : float \n",
    "    sy : float\n",
    "    syy : float\n",
    "\n",
    "@dataclass\n",
    "class sumstats :\n",
    "    value : function\n",
    "    domain : range\n",
    "    size : int\n",
    "    push : [[float],sumstats]    \n",
    "\n",
    "def sumstats_factory(wsize) :\n",
    "    stats = deque([moments(0.0,0.0,0.0)],maxlen = wsize)\n",
    "    value = lambda i : stats[i]\n",
    "    size = len(stats) \n",
    "    domain = range(size)\n",
    "    def push(y) :\n",
    "        s = stats[-1]\n",
    "        stats.append(moments(s.y,s.sy + y,s.syy + y*y))\n",
    "        return sumstats(value,domain,size,push)\n",
    "    return sumstats(value,domain,size,push) \n"
   ]
  },
  {
   "cell_type": "code",
   "execution_count": null,
   "id": "8097b011-c5ec-445d-a93e-9bc405672714",
   "metadata": {},
   "outputs": [],
   "source": [
    "def "
   ]
  },
  {
   "cell_type": "code",
   "execution_count": 46,
   "id": "aa08e049-40e0-40d7-a26b-0391c0b645a6",
   "metadata": {},
   "outputs": [],
   "source": [
    "blob = sumstats_factory(10)"
   ]
  },
  {
   "cell_type": "code",
   "execution_count": 47,
   "id": "eec63f5f-8a1f-4f70-874f-38ba7d530db2",
   "metadata": {},
   "outputs": [
    {
     "data": {
      "text/plain": [
       "moments(y=0.0, sy=0.0, syy=0.0)"
      ]
     },
     "execution_count": 47,
     "metadata": {},
     "output_type": "execute_result"
    }
   ],
   "source": [
    "blob.value(0)"
   ]
  },
  {
   "cell_type": "code",
   "execution_count": 48,
   "id": "361dc270-3e2e-4cf4-9c9d-f283daa5cb78",
   "metadata": {},
   "outputs": [],
   "source": [
    "glob = blob.push(3)"
   ]
  },
  {
   "cell_type": "code",
   "execution_count": 50,
   "id": "43a23256-b8b0-425a-80e5-0d1a940a8666",
   "metadata": {},
   "outputs": [
    {
     "data": {
      "text/plain": [
       "moments(y=0.0, sy=3.0, syy=9.0)"
      ]
     },
     "execution_count": 50,
     "metadata": {},
     "output_type": "execute_result"
    }
   ],
   "source": [
    "glob.value(1)"
   ]
  },
  {
   "cell_type": "code",
   "execution_count": 51,
   "id": "082152da-d1f5-4a72-b9a2-4d30c1cdfeeb",
   "metadata": {},
   "outputs": [
    {
     "data": {
      "text/plain": [
       "moments(y=0.0, sy=3.0, syy=9.0)"
      ]
     },
     "execution_count": 51,
     "metadata": {},
     "output_type": "execute_result"
    }
   ],
   "source": [
    "blob.value(1)"
   ]
  },
  {
   "cell_type": "code",
   "execution_count": 8,
   "id": "8ea02d98-18b4-40c5-a911-42c1360f0412",
   "metadata": {},
   "outputs": [],
   "source": [
    "f = lambda x,y : x + y"
   ]
  },
  {
   "cell_type": "code",
   "execution_count": 9,
   "id": "4785eb6c-1109-41d6-b4c5-9fb06dcb1854",
   "metadata": {},
   "outputs": [],
   "source": [
    "blob = sumstats(f,range(10),11,f)"
   ]
  },
  {
   "cell_type": "code",
   "execution_count": 11,
   "id": "57d40030-d989-4b13-9556-ae84999e5918",
   "metadata": {},
   "outputs": [
    {
     "data": {
      "text/plain": [
       "7"
      ]
     },
     "execution_count": 11,
     "metadata": {},
     "output_type": "execute_result"
    }
   ],
   "source": [
    "blob.value(3,4)"
   ]
  },
  {
   "cell_type": "code",
   "execution_count": null,
   "id": "f1558881-c9ba-4709-868a-1cc4ee400fb4",
   "metadata": {},
   "outputs": [],
   "source": [
    "def sumstats_factory(wsize) :\n",
    "    stats = deque[sumstats(0.0,0.0,0.0),maxlen = wsize]\n",
    "    value = lambda i : data[i]\n",
    "    size = len(data) \n",
    "    domain = range(size)\n",
    "    def push(y) :\n",
    "        s = stats[-1]\n",
    "        data.append(sumstats(stats.y,stats.sy + y,stats.syy + y*y))\n",
    "        return\n",
    "        \n",
    "    return value,domain \n",
    "    "
   ]
  },
  {
   "cell_type": "code",
   "execution_count": null,
   "id": "d972cc89-ca68-42fa-8a1b-291669084cd4",
   "metadata": {},
   "outputs": [],
   "source": [
    "s = sumstats(0,1,2)"
   ]
  },
  {
   "cell_type": "code",
   "execution_count": null,
   "id": "33dbacda-8e5f-417e-b852-1ee7d514317a",
   "metadata": {},
   "outputs": [],
   "source": [
    "a,b,c = tuple(s)"
   ]
  },
  {
   "cell_type": "code",
   "execution_count": null,
   "id": "d4c02050-8b92-4812-8c43-e6e7e116b5ee",
   "metadata": {},
   "outputs": [],
   "source": [
    "class normal_mean :\n",
    "    def __init__(self,wsize) :\n",
    "        if wsize != None : wsize += 1\n",
    "        self.Y = deque([0.0],maxlen = wsize)\n",
    "        self.SY = deque([0.0],maxlen = wsize)\n",
    "        self.SYY = deque([0.0],maxlen = wsize)\n",
    "    def push(self,y) :\n",
    "        self.Y.append(y)\n",
    "        self.SY.append(y + self.SY[-1])\n",
    "        self.SYY.append(y*y + self.SYY[-1])\n",
    "        # TODO - if Y is full - normalize\n",
    "    def size(self) :\n",
    "        return len(self.Y) - 1\n",
    "    def __call__(self,a,b) :\n",
    "        val = self.SY[b+1] - self.SY[a]\n",
    "        val *= val\n",
    "        val /= (b - a + 1)\n",
    "        val = -val\n",
    "        val += self.SYY[b+1] - self.SYY[a]\n",
    "        return val"
   ]
  },
  {
   "cell_type": "code",
   "execution_count": null,
   "id": "b6ebf3d5-bddb-44c6-a532-678568a87bc3",
   "metadata": {},
   "outputs": [],
   "source": []
  },
  {
   "cell_type": "code",
   "execution_count": null,
   "id": "ca8926be-2c8c-4c9b-8ba3-dd8909d76886",
   "metadata": {},
   "outputs": [],
   "source": []
  },
  {
   "cell_type": "code",
   "execution_count": null,
   "id": "dd290eef-b677-44c8-9faf-dbc98237430d",
   "metadata": {},
   "outputs": [],
   "source": [
    "f = lambda x,y : x + y"
   ]
  },
  {
   "cell_type": "code",
   "execution_count": null,
   "id": "6dd06346-66eb-407a-9c85-9b0459ca8d01",
   "metadata": {},
   "outputs": [],
   "source": [
    "blob = function(f,range(10),10)"
   ]
  },
  {
   "cell_type": "code",
   "execution_count": null,
   "id": "30512ce8-9e6a-4e18-830d-16b96f037984",
   "metadata": {},
   "outputs": [],
   "source": [
    "blob.method(3.1,7)"
   ]
  },
  {
   "cell_type": "code",
   "execution_count": null,
   "id": "92dee2ca-ccc4-4ce7-b8e2-2a02b70ac91f",
   "metadata": {},
   "outputs": [],
   "source": []
  },
  {
   "cell_type": "code",
   "execution_count": 8,
   "id": "289b9e17-4b47-4e74-a767-6da897dbc94c",
   "metadata": {},
   "outputs": [],
   "source": [
    "import itertools\n"
   ]
  },
  {
   "cell_type": "code",
   "execution_count": 9,
   "id": "e691e8a6-4cf4-40f6-98e5-47f80673f9d5",
   "metadata": {},
   "outputs": [],
   "source": [
    "x = deque([1,2,3])"
   ]
  },
  {
   "cell_type": "code",
   "execution_count": 10,
   "id": "0a5e518f-ca3f-4939-a102-ad9331425ce7",
   "metadata": {},
   "outputs": [
    {
     "data": {
      "text/plain": [
       "<_collections._deque_iterator at 0x790d84125e90>"
      ]
     },
     "execution_count": 10,
     "metadata": {},
     "output_type": "execute_result"
    }
   ],
   "source": [
    "iter(x)"
   ]
  },
  {
   "cell_type": "code",
   "execution_count": null,
   "id": "1df38d14-1a61-4aab-9297-5cc586800034",
   "metadata": {},
   "outputs": [],
   "source": [
    "blob = [1,2,3]\n",
    "iter(blob)"
   ]
  }
 ],
 "metadata": {
  "kernelspec": {
   "display_name": "Python 3 (ipykernel)",
   "language": "python",
   "name": "python3"
  },
  "language_info": {
   "codemirror_mode": {
    "name": "ipython",
    "version": 3
   },
   "file_extension": ".py",
   "mimetype": "text/x-python",
   "name": "python",
   "nbconvert_exporter": "python",
   "pygments_lexer": "ipython3",
   "version": "3.11.0"
  }
 },
 "nbformat": 4,
 "nbformat_minor": 5
}
