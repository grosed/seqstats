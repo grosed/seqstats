{
 "cells": [
  {
   "cell_type": "code",
   "execution_count": 109,
   "id": "7435b187-9bae-4f14-95fb-fc16ac6afe5a",
   "metadata": {},
   "outputs": [
    {
     "name": "stdout",
     "output_type": "stream",
     "text": [
      "Collecting scipy\n",
      "  Downloading scipy-1.14.0-cp311-cp311-manylinux_2_17_x86_64.manylinux2014_x86_64.whl.metadata (60 kB)\n",
      "\u001b[2K     \u001b[38;2;114;156;31m━━━━━━━━━━━━━━━━━━━━━━━━━━━━━━━━━━━━━━━━\u001b[0m \u001b[32m60.8/60.8 kB\u001b[0m \u001b[31m1.4 MB/s\u001b[0m eta \u001b[36m0:00:00\u001b[0m[31m1.6 MB/s\u001b[0m eta \u001b[36m0:00:01\u001b[0m\n",
      "\u001b[?25hRequirement already satisfied: numpy<2.3,>=1.23.5 in ./env/lib/python3.11/site-packages (from scipy) (2.0.0)\n",
      "Downloading scipy-1.14.0-cp311-cp311-manylinux_2_17_x86_64.manylinux2014_x86_64.whl (41.1 MB)\n",
      "\u001b[2K   \u001b[38;2;114;156;31m━━━━━━━━━━━━━━━━━━━━━━━━━━━━━━━━━━━━━━━━\u001b[0m \u001b[32m41.1/41.1 MB\u001b[0m \u001b[31m6.0 MB/s\u001b[0m eta \u001b[36m0:00:00\u001b[0mm eta \u001b[36m0:00:01\u001b[0m[36m0:00:01\u001b[0m\n",
      "\u001b[?25hInstalling collected packages: scipy\n",
      "Successfully installed scipy-1.14.0\n"
     ]
    }
   ],
   "source": [
    "!python -m pip install scipy"
   ]
  },
  {
   "cell_type": "code",
   "execution_count": 110,
   "id": "6903e98d-ff0b-4680-9cc3-8eb361258ebf",
   "metadata": {},
   "outputs": [],
   "source": [
    "import matplotlib.pyplot as plt"
   ]
  },
  {
   "cell_type": "code",
   "execution_count": 133,
   "id": "77b08a28-a5cc-4e17-8a32-9bcfd0fcce77",
   "metadata": {},
   "outputs": [],
   "source": [
    "from sortedcontainers import SortedList as ost\n",
    "from math import floor,ceil,log,sqrt\n",
    "from collections import deque\n",
    "import numpy as np\n",
    "from statistics import mean,variance"
   ]
  },
  {
   "cell_type": "code",
   "execution_count": 9,
   "id": "d2034588-8d68-4e4a-b96f-8f21589a3206",
   "metadata": {},
   "outputs": [],
   "source": [
    "class normal_mean :\n",
    "    def __init__(self,wsize) :\n",
    "        if wsize != None : wsize += 1\n",
    "        self.Y = deque([0.0],maxlen = wsize)\n",
    "        self.SY = deque([0.0],maxlen = wsize)\n",
    "        self.SYY = deque([0.0],maxlen = wsize)\n",
    "    def push(self,y) :\n",
    "        self.Y.append(y)\n",
    "        self.SY.append(y + self.SY[-1])\n",
    "        self.SYY.append(y*y + self.SYY[-1])\n",
    "        # TODO - if Y is full - normalize\n",
    "    def size(self) :\n",
    "        return len(self.Y) - 1\n",
    "    def __call__(self,a,b) :\n",
    "        val = self.SY[b+1] - self.SY[a]\n",
    "        val *= val\n",
    "        val /= (b - a + 1)\n",
    "        val = -val\n",
    "        val += self.SYY[b+1] - self.SYY[a]\n",
    "        return val"
   ]
  },
  {
   "cell_type": "code",
   "execution_count": 74,
   "id": "009c975a-f975-4f26-873f-a000f5656c68",
   "metadata": {},
   "outputs": [],
   "source": [
    "def amoc(C,penalty) :\n",
    "    c,pos = min([(C(0,C.size()-1),0)] + [(C(0,i-1) + C(i,C.size()-1),i) for i in range(1,C.size())])\n",
    "    return (c + penalty,C.size() - pos - 1) if c + penalty <= C(0,C.size()-1) else  (C(0,C.size()-1),C.size()-1)"
   ]
  },
  {
   "cell_type": "code",
   "execution_count": 156,
   "id": "a76196fc-c89b-406c-8afe-5f68ba095a42",
   "metadata": {},
   "outputs": [],
   "source": [
    "Z = list(np.random.normal(0, 1, 1000)) + list(np.random.normal(1, 1, 1000)) + list(np.random.normal(0, 1, 1000))\n",
    "mu = mean(Z)\n",
    "sigma = sqrt(variance(Z))\n",
    "Z = [float((z - mu)/sigma) for z in Z]\n",
    "n = len(Z)\n",
    "penalty = 2*log(n)"
   ]
  },
  {
   "cell_type": "code",
   "execution_count": 157,
   "id": "4240fa41-7729-4fd1-9205-5eb60f65ee75",
   "metadata": {},
   "outputs": [
    {
     "data": {
      "text/plain": [
       "(2841.1065618688226, 1998)"
      ]
     },
     "execution_count": 157,
     "metadata": {},
     "output_type": "execute_result"
    }
   ],
   "source": [
    "C = normal_mean(len(Z))\n",
    "for z in Z :\n",
    "    C.push(z)\n",
    "\n",
    "amoc(C,penalty)                                              "
   ]
  },
  {
   "cell_type": "code",
   "execution_count": 158,
   "id": "06a60fb2-dc9d-4515-b3f2-5435e730283c",
   "metadata": {},
   "outputs": [],
   "source": [
    "class cpts :\n",
    "    def __init__(self,wsize) :\n",
    "        self.wsize = wsize\n",
    "        self.F = deque(maxlen = wsize)\n",
    "    def push(self,val) :\n",
    "        self.F.append(val)\n",
    "        # TODO if F is full - normalize\n",
    "    def __call__(self,i) :\n",
    "        return self.F[i]\n",
    "    def size(self) :\n",
    "        return len(self.F)\n",
    "        "
   ]
  },
  {
   "cell_type": "code",
   "execution_count": 159,
   "id": "b81059a3-28a3-4aa2-80e2-b2f9056d3f5a",
   "metadata": {},
   "outputs": [],
   "source": [
    "def op(C,F,penalty) :\n",
    "    class C_prime :\n",
    "        nonlocal C,F\n",
    "        def __call__(self,i,j) :\n",
    "            if j == C.size() - 1 :\n",
    "                return C(i,j)\n",
    "            return F(j)[0]\n",
    "        def size(self) :\n",
    "            return C.size()\n",
    "    F.push(amoc(C_prime(),penalty))\n",
    "    return F\n",
    "        \n",
    "        "
   ]
  },
  {
   "cell_type": "code",
   "execution_count": 164,
   "id": "a6c9fd7b-4373-4e94-9bbe-985ccafb5aa3",
   "metadata": {},
   "outputs": [],
   "source": [
    "C = normal_mean(n)\n",
    "F = cpts(n)\n",
    "for z in Z :\n",
    "    C.push(z)\n",
    "    F = op(C,F,penalty)\n",
    "\n",
    "res = [F(i) for i in range(F.size())]"
   ]
  },
  {
   "cell_type": "code",
   "execution_count": 165,
   "id": "a1a35042-25cc-4e1a-9273-7387734f6877",
   "metadata": {},
   "outputs": [
    {
     "data": {
      "text/plain": [
       "(2489.609568942829, 995)"
      ]
     },
     "execution_count": 165,
     "metadata": {},
     "output_type": "execute_result"
    }
   ],
   "source": [
    "F(2999)"
   ]
  },
  {
   "cell_type": "code",
   "execution_count": 166,
   "id": "9de5082c-4f55-4950-881c-b8e0c0d34650",
   "metadata": {},
   "outputs": [
    {
     "data": {
      "text/plain": [
       "(1688.9196994994413, 1003)"
      ]
     },
     "execution_count": 166,
     "metadata": {},
     "output_type": "execute_result"
    }
   ],
   "source": [
    "F(2999 - 995)"
   ]
  },
  {
   "cell_type": "code",
   "execution_count": 167,
   "id": "43848996-59b9-495a-b070-a052ce6b7346",
   "metadata": {},
   "outputs": [
    {
     "data": {
      "text/plain": [
       "(871.7961542792826, 1001)"
      ]
     },
     "execution_count": 167,
     "metadata": {},
     "output_type": "execute_result"
    }
   ],
   "source": [
    "F(2999 - 995 - 1003)"
   ]
  },
  {
   "cell_type": "code",
   "execution_count": 168,
   "id": "c7fe5865-8d12-49a3-9c59-c506b173f68d",
   "metadata": {},
   "outputs": [
    {
     "data": {
      "text/plain": [
       "(0.0, 0)"
      ]
     },
     "execution_count": 168,
     "metadata": {},
     "output_type": "execute_result"
    }
   ],
   "source": [
    "F(2999 - 995 - 1003 - 1001)"
   ]
  },
  {
   "cell_type": "code",
   "execution_count": 169,
   "id": "44bb3e70-5f3b-4d64-be24-6047cab067db",
   "metadata": {},
   "outputs": [
    {
     "data": {
      "text/plain": [
       "2999.000000000002"
      ]
     },
     "execution_count": 169,
     "metadata": {},
     "output_type": "execute_result"
    }
   ],
   "source": [
    "C(0,2999)"
   ]
  }
 ],
 "metadata": {
  "kernelspec": {
   "display_name": "Python 3 (ipykernel)",
   "language": "python",
   "name": "python3"
  },
  "language_info": {
   "codemirror_mode": {
    "name": "ipython",
    "version": 3
   },
   "file_extension": ".py",
   "mimetype": "text/x-python",
   "name": "python",
   "nbconvert_exporter": "python",
   "pygments_lexer": "ipython3",
   "version": "3.11.0"
  }
 },
 "nbformat": 4,
 "nbformat_minor": 5
}
