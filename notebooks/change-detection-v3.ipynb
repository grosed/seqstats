{
 "cells": [
  {
   "cell_type": "code",
   "execution_count": 1,
   "id": "4a5448f8-da09-4ed5-a3a7-7438be9b5cb5",
   "metadata": {},
   "outputs": [],
   "source": [
    "from sortedcontainers import SortedList as ost\n",
    "from math import floor,ceil,log,sqrt\n",
    "from collections import deque\n",
    "import numpy as np\n",
    "from statistics import mean,variance\n",
    "import matplotlib.pyplot as plt\n",
    "from dataclasses import dataclass\n",
    "from typing import Callable"
   ]
  },
  {
   "cell_type": "code",
   "execution_count": 14,
   "id": "780b6896-3614-4220-aacd-15f722597dae",
   "metadata": {},
   "outputs": [
    {
     "name": "stdout",
     "output_type": "stream",
     "text": [
      "Collecting pymonad\n",
      "  Using cached PyMonad-2.4.0-py3-none-any.whl.metadata (10 kB)\n",
      "Using cached PyMonad-2.4.0-py3-none-any.whl (29 kB)\n",
      "Installing collected packages: pymonad\n",
      "Successfully installed pymonad-2.4.0\n",
      "\n",
      "\u001b[1m[\u001b[0m\u001b[34;49mnotice\u001b[0m\u001b[1;39;49m]\u001b[0m\u001b[39;49m A new release of pip is available: \u001b[0m\u001b[31;49m24.1.1\u001b[0m\u001b[39;49m -> \u001b[0m\u001b[32;49m24.2\u001b[0m\n",
      "\u001b[1m[\u001b[0m\u001b[34;49mnotice\u001b[0m\u001b[1;39;49m]\u001b[0m\u001b[39;49m To update, run: \u001b[0m\u001b[32;49mpip install --upgrade pip\u001b[0m\n"
     ]
    }
   ],
   "source": [
    "!python -m pip install pymonad"
   ]
  },
  {
   "cell_type": "code",
   "execution_count": 15,
   "id": "2ae8dc6c-5a51-4c79-8cb6-6a6104095ae1",
   "metadata": {},
   "outputs": [],
   "source": [
    "from pymonad.tools import curry\n",
    "\n",
    "def add(x, y):\n",
    "    return x + y\n",
    "\n",
    "curried_add = curry(2, add)\n",
    "# add = curry(2, add) # If you don't need access to the uncurried version."
   ]
  },
  {
   "cell_type": "code",
   "execution_count": 20,
   "id": "8e4c56f7-8a9c-432e-8bb8-f841a61d6d44",
   "metadata": {},
   "outputs": [],
   "source": [
    "add1 = curried_add(2)"
   ]
  },
  {
   "cell_type": "code",
   "execution_count": 21,
   "id": "7007e7e9-b74a-4c35-9a55-ea4b6f446125",
   "metadata": {},
   "outputs": [
    {
     "data": {
      "text/plain": [
       "5"
      ]
     },
     "execution_count": 21,
     "metadata": {},
     "output_type": "execute_result"
    }
   ],
   "source": [
    "add1(3)"
   ]
  },
  {
   "cell_type": "code",
   "execution_count": 2,
   "id": "5b778424-d863-495d-ba87-a2209d45228d",
   "metadata": {},
   "outputs": [],
   "source": [
    "@dataclass\n",
    "class sumstat :\n",
    "    y : float \n",
    "    sy : float\n",
    "    syy : float"
   ]
  },
  {
   "cell_type": "code",
   "execution_count": 3,
   "id": "0db08bea-7225-40ef-8e22-9b12a3ddcba3",
   "metadata": {},
   "outputs": [],
   "source": [
    "def normal_mean(sumstats,a,b) :    \n",
    "    val = sumstats[b+1].sy - sumstats[a].sy\n",
    "    val *= val\n",
    "    val /= (b - a + 1)\n",
    "    val = -val\n",
    "    val += sumstats[b+1].syy - sumstats[a].syy\n",
    "    return val"
   ]
  },
  {
   "cell_type": "code",
   "execution_count": 4,
   "id": "94d5f6e1-e283-4088-8395-97bd6c294fd5",
   "metadata": {},
   "outputs": [],
   "source": [
    "# patterns : [closure,class,object,monad<writer>?]\n",
    "def class_update_sumstats(wsize) : # sumstats class (a factory)\n",
    "    sumstats = deque([sumstat(0.0,0.0,0.0)],maxlen = wsize)\n",
    "    def update(y) :\n",
    "        last = sumstats[-1]\n",
    "        sumstats.append(sumstat(y,last.sy + y,last.syy + y*y))\n",
    "        # TODO - if Y is full - normalize\n",
    "        return sumstats,update\n",
    "    return sumstats,update"
   ]
  },
  {
   "cell_type": "code",
   "execution_count": 26,
   "id": "1081b2ab-4dd2-4176-a891-f90114c133a2",
   "metadata": {},
   "outputs": [],
   "source": [
    "# patterns : [hof,decorator,curry]\n",
    "# TODO - domain needs implementing properly\n",
    "def cost_function_decorator(sumstats,cost_function) :\n",
    "    return curry(3,cost_function)(sumstats),None,len(sumstats) - 1\n",
    "        \n",
    "    "
   ]
  },
  {
   "cell_type": "code",
   "execution_count": null,
   "id": "75f780d6-b816-4edf-94e2-03054a6454a2",
   "metadata": {},
   "outputs": [],
   "source": []
  },
  {
   "cell_type": "code",
   "execution_count": null,
   "id": "c83b5331-22b2-4482-a15e-b84049365e7b",
   "metadata": {},
   "outputs": [],
   "source": []
  },
  {
   "cell_type": "code",
   "execution_count": null,
   "id": "c8706d1a-690e-4100-aeae-6ea6240640fa",
   "metadata": {},
   "outputs": [],
   "source": []
  },
  {
   "cell_type": "code",
   "execution_count": 6,
   "id": "fb7b1cc3-96e9-46b8-bd03-d711d1bdb35a",
   "metadata": {},
   "outputs": [],
   "source": [
    "def fix_left(cost_function,position) :\n",
    "    def value(i) :\n",
    "        return cost_function(position,i)\n",
    "    def size() :\n",
    "        return cost_function.size()\n",
    "    def domain(self) :\n",
    "        return range(size())\n",
    "    return(value,domain,size)"
   ]
  },
  {
   "cell_type": "code",
   "execution_count": 7,
   "id": "57168f7c-c25b-46c4-98b9-4cc8aa39cb61",
   "metadata": {},
   "outputs": [],
   "source": [
    "def fix_right(cost_function,position) :\n",
    "    def value(i) :\n",
    "        return cost_function(i,position)\n",
    "    def size() :\n",
    "        return cost_function.size()\n",
    "    def domain(self) :\n",
    "        return range(size())\n",
    "    return(value,domain,size)"
   ]
  },
  {
   "cell_type": "code",
   "execution_count": null,
   "id": "e9a6c4c7-e464-48c1-8f51-abbea738d217",
   "metadata": {},
   "outputs": [],
   "source": []
  },
  {
   "cell_type": "code",
   "execution_count": null,
   "id": "ec0ab8a4-8ec9-4e11-bd6a-d315bbafc4d7",
   "metadata": {},
   "outputs": [],
   "source": []
  },
  {
   "cell_type": "code",
   "execution_count": 8,
   "id": "ee10db47-e510-4854-ac64-d5bb68e7e3e3",
   "metadata": {},
   "outputs": [
    {
     "ename": "SyntaxError",
     "evalue": "invalid syntax (4017624461.py, line 8)",
     "output_type": "error",
     "traceback": [
      "\u001b[0;36m  Cell \u001b[0;32mIn[8], line 8\u001b[0;36m\u001b[0m\n\u001b[0;31m    def\u001b[0m\n\u001b[0m        ^\u001b[0m\n\u001b[0;31mSyntaxError\u001b[0m\u001b[0;31m:\u001b[0m invalid syntax\n"
     ]
    }
   ],
   "source": [
    "# patterns : [hof,closure,decorator?]\n",
    "def split_left_right_sum(sumstats,cost_func) :\n",
    "    def value(i) :\n",
    "        if i == 0 :\n",
    "            return value_r(i)\n",
    "        else :\n",
    "            return value_l(i) + value_r(i)\n",
    "    def \n",
    "    return(value,domain,size)\n",
    "    \n",
    "    \n",
    "    \n",
    "    "
   ]
  },
  {
   "cell_type": "code",
   "execution_count": null,
   "id": "1072467f-0acf-4665-963d-39006d41c54b",
   "metadata": {},
   "outputs": [],
   "source": [
    "def left_right_sum(left,right) :\n",
    "    value_l,domain,size = left\n",
    "    value_r,_,_ = right\n",
    "    def value(i) :\n",
    "        if i == 0 :\n",
    "            return value_r(i)\n",
    "        else :\n",
    "            return value_l(i) + value_r(i)\n",
    "    return(value,domain,size)"
   ]
  },
  {
   "cell_type": "code",
   "execution_count": null,
   "id": "e759fecd-2058-4061-8d49-04eab720c503",
   "metadata": {},
   "outputs": [],
   "source": []
  },
  {
   "cell_type": "code",
   "execution_count": 30,
   "id": "8bb7e4bc-07aa-475e-98ee-798d3b2ea816",
   "metadata": {},
   "outputs": [],
   "source": [
    "Z = [float(z) for z in list(np.random.normal(0, 1, 1000)) + list(np.random.normal(1, 1, 1000)) + list(np.random.normal(0, 1, 1000))]"
   ]
  },
  {
   "cell_type": "code",
   "execution_count": 31,
   "id": "8892fbfd-9833-4dd4-924c-fdff8fe47c0a",
   "metadata": {},
   "outputs": [
    {
     "data": {
      "text/plain": [
       "[<matplotlib.lines.Line2D at 0x762368244850>]"
      ]
     },
     "execution_count": 31,
     "metadata": {},
     "output_type": "execute_result"
    },
    {
     "data": {
      "image/png": "[encoded data removed]",
      "text/plain": [
       "<Figure size 640x480 with 1 Axes>"
      ]
     },
     "metadata": {},
     "output_type": "display_data"
    }
   ],
   "source": [
    "plt.plot(Z)"
   ]
  },
  {
   "cell_type": "code",
   "execution_count": 32,
   "id": "dd3b5bb3-cbfd-434b-9fc0-14054dbd1661",
   "metadata": {},
   "outputs": [],
   "source": [
    "wsize = len(Z)\n",
    "sumstats,update = class_update_sumstats(wsize)\n",
    "for z in Z :\n",
    "    sumstats,update = update(z)"
   ]
  },
  {
   "cell_type": "code",
   "execution_count": 36,
   "id": "b6c301f7-a897-4034-b820-33ffe2052368",
   "metadata": {},
   "outputs": [],
   "source": [
    "cost,domain,size = cost_function_decorator(sumstats,normal_mean)"
   ]
  },
  {
   "cell_type": "code",
   "execution_count": 37,
   "id": "68fdb35f-174e-4ede-948b-32abe4ff9b81",
   "metadata": {},
   "outputs": [
    {
     "name": "stdout",
     "output_type": "stream",
     "text": [
      "1.1102230246251565e-16\n",
      "2999\n",
      "None\n"
     ]
    }
   ],
   "source": [
    "print(cost(0,0))\n",
    "print(size)\n",
    "print(domain)\n"
   ]
  },
  {
   "cell_type": "code",
   "execution_count": null,
   "id": "a1a28b97-ec7a-4c35-bc2a-ff0e1ee8a6b3",
   "metadata": {},
   "outputs": [],
   "source": []
  },
  {
   "cell_type": "code",
   "execution_count": null,
   "id": "a2cf4d34-87ad-4884-a586-9d045637dad9",
   "metadata": {},
   "outputs": [],
   "source": [
    "sumstats"
   ]
  }
 ],
 "metadata": {
  "kernelspec": {
   "display_name": "Python 3 (ipykernel)",
   "language": "python",
   "name": "python3"
  },
  "language_info": {
   "codemirror_mode": {
    "name": "ipython",
    "version": 3
   },
   "file_extension": ".py",
   "mimetype": "text/x-python",
   "name": "python",
   "nbconvert_exporter": "python",
   "pygments_lexer": "ipython3",
   "version": "3.11.0"
  }
 },
 "nbformat": 4,
 "nbformat_minor": 5
}
