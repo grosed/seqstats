{
 "cells": [
  {
   "cell_type": "code",
   "execution_count": 1,
   "id": "38850aba",
   "metadata": {},
   "outputs": [],
   "source": [
    "from sortedcontainers import SortedList\n",
    "from math import ceil,floor\n",
    "from numpy.random import uniform,poisson,seed,normal\n",
    "from collections import deque"
   ]
  },
  {
   "cell_type": "code",
   "execution_count": 2,
   "id": "8426ccf8",
   "metadata": {},
   "outputs": [],
   "source": [
    "def push(G,P,x,y) :\n",
    "    for xi,yi in P :\n",
    "        try :\n",
    "            G.add((y-yi)/(x-xi))\n",
    "        except :\n",
    "            pass\n",
    "    P.append((x,y))\n",
    "    return (G,P)\n",
    "\n",
    "def pop(G,P) :\n",
    "    x,y = P.pop(0)\n",
    "    for xi,yi in P :\n",
    "        try :\n",
    "            G.remove((y-yi)/(x-xi))\n",
    "        except :\n",
    "            pass    \n",
    "    return (G,P)\n",
    "        \n",
    "class seq_theil_sen :\n",
    "    def __init__(self) :\n",
    "        self.P = list()\n",
    "        self.G = SortedList()\n",
    "        self.gradient = None\n",
    "    def pop(self) :\n",
    "        self.G,self.P = pop(self.G,self.P)\n",
    "        if len(self.G) > 0 :\n",
    "            self.gradient = (self.G[ceil(len(self.G)/2) - 1] + self.G[floor(len(self.G)/2)])/2\n",
    "        return self\n",
    "    def push(self,x,y) :\n",
    "        self.G,self.P = push(self.G,self.P,x,y)\n",
    "        if len(self.G) > 0 :\n",
    "            self.gradient = (self.G[ceil(len(self.G)/2) - 1] + self.G[floor(len(self.G)/2)])/2\n",
    "        return self"
   ]
  },
  {
   "cell_type": "code",
   "execution_count": null,
   "id": "0618d03e",
   "metadata": {},
   "outputs": [],
   "source": []
  },
  {
   "cell_type": "code",
   "execution_count": 3,
   "id": "346e7ef7",
   "metadata": {},
   "outputs": [],
   "source": [
    "X = [i for i in range(1000)]\n",
    "Y = [i*0.1 + normal(0,1) for i in range(1000)]"
   ]
  },
  {
   "cell_type": "code",
   "execution_count": 4,
   "id": "9a025b35",
   "metadata": {},
   "outputs": [],
   "source": [
    "S = seq_theil_sen()\n",
    "for x,y in zip(X,Y) :\n",
    "    S.push(x,y)"
   ]
  },
  {
   "cell_type": "code",
   "execution_count": 5,
   "id": "3eae55dc",
   "metadata": {},
   "outputs": [
    {
     "data": {
      "text/plain": [
       "0.099983890560605"
      ]
     },
     "execution_count": 5,
     "metadata": {},
     "output_type": "execute_result"
    }
   ],
   "source": [
    "S.gradient"
   ]
  },
  {
   "cell_type": "code",
   "execution_count": 6,
   "id": "8073e92f",
   "metadata": {},
   "outputs": [],
   "source": [
    "x = [1,2,3,4]"
   ]
  },
  {
   "cell_type": "code",
   "execution_count": 7,
   "id": "ea608a62",
   "metadata": {},
   "outputs": [
    {
     "data": {
      "text/plain": [
       "1"
      ]
     },
     "execution_count": 7,
     "metadata": {},
     "output_type": "execute_result"
    }
   ],
   "source": [
    "x.pop(0)"
   ]
  },
  {
   "cell_type": "code",
   "execution_count": 8,
   "id": "dba1dc97",
   "metadata": {},
   "outputs": [
    {
     "data": {
      "text/plain": [
       "[2, 3, 4]"
      ]
     },
     "execution_count": 8,
     "metadata": {},
     "output_type": "execute_result"
    }
   ],
   "source": [
    "x"
   ]
  },
  {
   "cell_type": "code",
   "execution_count": 9,
   "id": "2290a1e1",
   "metadata": {},
   "outputs": [],
   "source": [
    "x.append(5)"
   ]
  },
  {
   "cell_type": "code",
   "execution_count": null,
   "id": "78ea5640",
   "metadata": {},
   "outputs": [],
   "source": []
  },
  {
   "cell_type": "code",
   "execution_count": null,
   "id": "993445d6",
   "metadata": {},
   "outputs": [],
   "source": []
  },
  {
   "cell_type": "code",
   "execution_count": 10,
   "id": "73da2d4b",
   "metadata": {},
   "outputs": [
    {
     "name": "stdout",
     "output_type": "stream",
     "text": [
      "Requirement already satisfied: pandas in /home/grosedj/work/seqstats-env/env/lib/python3.9/site-packages (1.4.3)\n",
      "Requirement already satisfied: pytz>=2020.1 in /home/grosedj/work/seqstats-env/env/lib/python3.9/site-packages (from pandas) (2022.2.1)\n",
      "Requirement already satisfied: numpy>=1.18.5 in /home/grosedj/work/seqstats-env/env/lib/python3.9/site-packages (from pandas) (1.22.4)\n",
      "Requirement already satisfied: python-dateutil>=2.8.1 in /home/grosedj/work/seqstats-env/env/lib/python3.9/site-packages (from pandas) (2.8.2)\n",
      "Requirement already satisfied: six>=1.5 in /home/grosedj/work/seqstats-env/env/lib/python3.9/site-packages (from python-dateutil>=2.8.1->pandas) (1.16.0)\n",
      "\n",
      "\u001b[1m[\u001b[0m\u001b[34;49mnotice\u001b[0m\u001b[1;39;49m]\u001b[0m\u001b[39;49m A new release of pip available: \u001b[0m\u001b[31;49m22.1.2\u001b[0m\u001b[39;49m -> \u001b[0m\u001b[32;49m22.2.2\u001b[0m\n",
      "\u001b[1m[\u001b[0m\u001b[34;49mnotice\u001b[0m\u001b[1;39;49m]\u001b[0m\u001b[39;49m To update, run: \u001b[0m\u001b[32;49mpip install --upgrade pip\u001b[0m\n"
     ]
    }
   ],
   "source": [
    "!python -m pip install pandas"
   ]
  },
  {
   "cell_type": "code",
   "execution_count": 11,
   "id": "0fde41f3",
   "metadata": {},
   "outputs": [
    {
     "data": {
      "image/png": "[encoded data removed]",
      "text/plain": [
       "<Figure size 432x288 with 1 Axes>"
      ]
     },
     "metadata": {
      "needs_background": "light"
     },
     "output_type": "display_data"
    }
   ],
   "source": [
    "from os import chdir\n",
    "from pandas import read_csv\n",
    "from matplotlib import pyplot\n",
    "\"x\"\n",
    "series = read_csv(\"blob.csv\", header=0, index_col=0)\n",
    "series.plot()\n",
    "pyplot.show()"
   ]
  },
  {
   "cell_type": "code",
   "execution_count": 12,
   "id": "9bd860c2",
   "metadata": {},
   "outputs": [],
   "source": [
    "Temp = list(series.loc[:,\"Temp\"])"
   ]
  },
  {
   "cell_type": "code",
   "execution_count": 13,
   "id": "1f49f479",
   "metadata": {},
   "outputs": [
    {
     "name": "stdout",
     "output_type": "stream",
     "text": [
      "Requirement already satisfied: statsmodels in ./env/lib/python3.9/site-packages (0.13.2)\n",
      "Requirement already satisfied: pandas>=0.25 in ./env/lib/python3.9/site-packages (from statsmodels) (1.4.3)\n",
      "Requirement already satisfied: patsy>=0.5.2 in ./env/lib/python3.9/site-packages (from statsmodels) (0.5.2)\n",
      "Requirement already satisfied: scipy>=1.3 in ./env/lib/python3.9/site-packages (from statsmodels) (1.8.1)\n",
      "Requirement already satisfied: numpy>=1.17 in ./env/lib/python3.9/site-packages (from statsmodels) (1.22.4)\n",
      "Requirement already satisfied: packaging>=21.3 in ./env/lib/python3.9/site-packages (from statsmodels) (21.3)\n",
      "Requirement already satisfied: pyparsing!=3.0.5,>=2.0.2 in ./env/lib/python3.9/site-packages (from packaging>=21.3->statsmodels) (3.0.9)\n",
      "Requirement already satisfied: python-dateutil>=2.8.1 in ./env/lib/python3.9/site-packages (from pandas>=0.25->statsmodels) (2.8.2)\n",
      "Requirement already satisfied: pytz>=2020.1 in ./env/lib/python3.9/site-packages (from pandas>=0.25->statsmodels) (2022.2.1)\n",
      "Requirement already satisfied: six in ./env/lib/python3.9/site-packages (from patsy>=0.5.2->statsmodels) (1.16.0)\n",
      "\n",
      "\u001b[1m[\u001b[0m\u001b[34;49mnotice\u001b[0m\u001b[1;39;49m]\u001b[0m\u001b[39;49m A new release of pip available: \u001b[0m\u001b[31;49m22.1.2\u001b[0m\u001b[39;49m -> \u001b[0m\u001b[32;49m22.2.2\u001b[0m\n",
      "\u001b[1m[\u001b[0m\u001b[34;49mnotice\u001b[0m\u001b[1;39;49m]\u001b[0m\u001b[39;49m To update, run: \u001b[0m\u001b[32;49mpip install --upgrade pip\u001b[0m\n"
     ]
    }
   ],
   "source": [
    "!python -m pip install statsmodels"
   ]
  },
  {
   "cell_type": "code",
   "execution_count": 14,
   "id": "976d3480",
   "metadata": {},
   "outputs": [],
   "source": [
    "from statsmodels.tsa.stattools import acf"
   ]
  },
  {
   "cell_type": "code",
   "execution_count": 15,
   "id": "3e6e8b87",
   "metadata": {},
   "outputs": [
    {
     "data": {
      "text/plain": [
       "array([1.      , 0.774268])"
      ]
     },
     "execution_count": 15,
     "metadata": {},
     "output_type": "execute_result"
    }
   ],
   "source": [
    "acf(Temp,nlags=1)"
   ]
  },
  {
   "cell_type": "code",
   "execution_count": null,
   "id": "105366a3",
   "metadata": {},
   "outputs": [],
   "source": []
  },
  {
   "cell_type": "code",
   "execution_count": 16,
   "id": "308814d2",
   "metadata": {},
   "outputs": [],
   "source": [
    "S = seq_theil_sen()\n",
    "for x,y in zip(Temp[1:],Temp[:-1]) :\n",
    "    S.push(x,y)\n",
    "for i in range(1000) :\n",
    "    S.pop()"
   ]
  },
  {
   "cell_type": "code",
   "execution_count": 17,
   "id": "130510dd",
   "metadata": {},
   "outputs": [
    {
     "data": {
      "text/plain": [
       "3481674"
      ]
     },
     "execution_count": 17,
     "metadata": {},
     "output_type": "execute_result"
    }
   ],
   "source": [
    "len(S.G)"
   ]
  },
  {
   "cell_type": "code",
   "execution_count": 18,
   "id": "cc81b134",
   "metadata": {},
   "outputs": [
    {
     "data": {
      "text/plain": [
       "0.7757009345794392"
      ]
     },
     "execution_count": 18,
     "metadata": {},
     "output_type": "execute_result"
    }
   ],
   "source": [
    "S.gradient"
   ]
  },
  {
   "cell_type": "code",
   "execution_count": 19,
   "id": "4a3b1944",
   "metadata": {},
   "outputs": [
    {
     "data": {
      "text/plain": [
       "2650"
      ]
     },
     "execution_count": 19,
     "metadata": {},
     "output_type": "execute_result"
    }
   ],
   "source": [
    "Z = Temp[1000:]\n",
    "len(Z)"
   ]
  },
  {
   "cell_type": "code",
   "execution_count": 20,
   "id": "9cea43ff",
   "metadata": {},
   "outputs": [],
   "source": [
    "S = seq_theil_sen()\n",
    "for x,y in zip(Z[1:],Z[:-1]) :\n",
    "    S.push(x,y)"
   ]
  },
  {
   "cell_type": "code",
   "execution_count": 21,
   "id": "a24e9b5d",
   "metadata": {},
   "outputs": [
    {
     "data": {
      "text/plain": [
       "0.7757009345794392"
      ]
     },
     "execution_count": 21,
     "metadata": {},
     "output_type": "execute_result"
    }
   ],
   "source": [
    "S.gradient"
   ]
  },
  {
   "cell_type": "code",
   "execution_count": 22,
   "id": "c5b2b0b8",
   "metadata": {},
   "outputs": [],
   "source": [
    "S = seq_theil_sen()\n",
    "wsize = 1000\n",
    "for x,y in zip(Temp[1:],Temp[:-1]) :\n",
    "    if len(S.P) == wsize :\n",
    "        S.pop()\n",
    "    S.push(x,y)"
   ]
  },
  {
   "cell_type": "code",
   "execution_count": null,
   "id": "6a47a5a3",
   "metadata": {},
   "outputs": [],
   "source": []
  },
  {
   "cell_type": "code",
   "execution_count": 23,
   "id": "9998a535",
   "metadata": {},
   "outputs": [
    {
     "ename": "NameError",
     "evalue": "name 'theilslopes' is not defined",
     "output_type": "error",
     "traceback": [
      "\u001b[0;31m---------------------------------------------------------------------------\u001b[0m",
      "\u001b[0;31mNameError\u001b[0m                                 Traceback (most recent call last)",
      "Input \u001b[0;32mIn [23]\u001b[0m, in \u001b[0;36m<cell line: 1>\u001b[0;34m()\u001b[0m\n\u001b[0;32m----> 1\u001b[0m \u001b[43mtheilslopes\u001b[49m(Z[\u001b[38;5;241m1\u001b[39m:],Z[:\u001b[38;5;241m-\u001b[39m\u001b[38;5;241m1\u001b[39m])\n",
      "\u001b[0;31mNameError\u001b[0m: name 'theilslopes' is not defined"
     ]
    }
   ],
   "source": [
    "theilslopes(Z[1:],Z[:-1])"
   ]
  },
  {
   "cell_type": "code",
   "execution_count": 30,
   "id": "9b4b896a",
   "metadata": {},
   "outputs": [],
   "source": [
    "import matplotlib.pyplot as plt"
   ]
  },
  {
   "cell_type": "code",
   "execution_count": 31,
   "id": "ff309db2",
   "metadata": {},
   "outputs": [
    {
     "data": {
      "text/plain": [
       "[<matplotlib.lines.Line2D at 0x7fc37b12d700>]"
      ]
     },
     "execution_count": 31,
     "metadata": {},
     "output_type": "execute_result"
    },
    {
     "data": {
      "image/png": "[encoded data removed]",
      "text/plain": [
       "<Figure size 432x288 with 1 Axes>"
      ]
     },
     "metadata": {
      "needs_background": "light"
     },
     "output_type": "display_data"
    }
   ],
   "source": [
    "plt.plot(Temp[1:],Temp[:-1],'o')"
   ]
  },
  {
   "cell_type": "code",
   "execution_count": null,
   "id": "efe3e2c9",
   "metadata": {},
   "outputs": [],
   "source": [
    "from scipy.stats import linregress"
   ]
  },
  {
   "cell_type": "code",
   "execution_count": null,
   "id": "f21a7c22",
   "metadata": {},
   "outputs": [],
   "source": [
    "linregress(Temp[1:],Temp[:-1])fo"
   ]
  },
  {
   "cell_type": "code",
   "execution_count": null,
   "id": "0bf7f856",
   "metadata": {},
   "outputs": [],
   "source": [
    "linregress(Temp[:-1],Temp[1:])"
   ]
  },
  {
   "cell_type": "code",
   "execution_count": null,
   "id": "41e53fbc",
   "metadata": {},
   "outputs": [],
   "source": [
    "from scipy.stats.mstats import theilslopes"
   ]
  },
  {
   "cell_type": "code",
   "execution_count": null,
   "id": "a14c486f",
   "metadata": {},
   "outputs": [],
   "source": [
    "theilslopes(Temp[:-1],Temp[1:])"
   ]
  },
  {
   "cell_type": "code",
   "execution_count": null,
   "id": "39798ff8",
   "metadata": {},
   "outputs": [],
   "source": [
    "theilslopes(Temp[1:],Temp[:-1])"
   ]
  },
  {
   "cell_type": "code",
   "execution_count": 25,
   "id": "7a2dbee8",
   "metadata": {},
   "outputs": [],
   "source": [
    "import time"
   ]
  },
  {
   "cell_type": "code",
   "execution_count": null,
   "id": "e145c64a",
   "metadata": {},
   "outputs": [],
   "source": [
    "tic = time.perf_counter()\n",
    "Z = Temp[:1000]\n",
    "for i in range(3650) :\n",
    "    theilslopes(Z[1:],Z[:-1])\n",
    "toc = time.perf_counter()\n",
    "toc - tic"
   ]
  },
  {
   "cell_type": "code",
   "execution_count": 26,
   "id": "36599996",
   "metadata": {},
   "outputs": [
    {
     "data": {
      "text/plain": [
       "15.220901366032194"
      ]
     },
     "execution_count": 26,
     "metadata": {},
     "output_type": "execute_result"
    }
   ],
   "source": [
    "S = seq_theil_sen()\n",
    "res = list()\n",
    "wsize = 1000\n",
    "tic = time.perf_counter()\n",
    "for x,y in zip(Temp[1:],Temp[:-1]) :\n",
    "    if len(S.P) == wsize :\n",
    "        S.pop()\n",
    "    S.push(x,y)\n",
    "    res.append(S.gradient)\n",
    "toc = time.perf_counter()\n",
    "toc - tic"
   ]
  },
  {
   "cell_type": "code",
   "execution_count": 32,
   "id": "7824e08c",
   "metadata": {},
   "outputs": [
    {
     "data": {
      "text/plain": [
       "[<matplotlib.lines.Line2D at 0x7fc3757d6d00>]"
      ]
     },
     "execution_count": 32,
     "metadata": {},
     "output_type": "execute_result"
    },
    {
     "data": {
      "image/png": "[encoded data removed]",
      "text/plain": [
       "<Figure size 432x288 with 1 Axes>"
      ]
     },
     "metadata": {
      "needs_background": "light"
     },
     "output_type": "display_data"
    }
   ],
   "source": [
    "plt.plot(res)"
   ]
  },
  {
   "cell_type": "code",
   "execution_count": 94,
   "id": "9ee268e9",
   "metadata": {},
   "outputs": [],
   "source": [
    "import pandas\n",
    "chdir(\"/home/grosedj/work/seqstats-env/notebooks\")\n",
    "machinetemp = read_csv(\"machinetemp.csv\",header=0).temp.tolist()"
   ]
  },
  {
   "cell_type": "code",
   "execution_count": 96,
   "id": "666a56f4",
   "metadata": {},
   "outputs": [
    {
     "data": {
      "text/plain": [
       "[<matplotlib.lines.Line2D at 0x7fc3761e75e0>]"
      ]
     },
     "execution_count": 96,
     "metadata": {},
     "output_type": "execute_result"
    },
    {
     "data": {
      "image/png": "[encoded data removed]",
      "text/plain": [
       "<Figure size 432x288 with 1 Axes>"
      ]
     },
     "metadata": {
      "needs_background": "light"
     },
     "output_type": "display_data"
    }
   ],
   "source": [
    "plt.plot(machinetemp)"
   ]
  },
  {
   "cell_type": "code",
   "execution_count": 125,
   "id": "228287da",
   "metadata": {},
   "outputs": [
    {
     "data": {
      "text/plain": [
       "115.76895093900384"
      ]
     },
     "execution_count": 125,
     "metadata": {},
     "output_type": "execute_result"
    }
   ],
   "source": [
    "S = seq_theil_sen()\n",
    "res = list()\n",
    "wsize = 1000\n",
    "tic = time.perf_counter()\n",
    "for x,y in zip(machinetemp[1:],machinetemp[:-1]) :\n",
    "    if len(S.P) == wsize :\n",
    "        S.pop()\n",
    "    S.push(x,y)\n",
    "    res.append(S.gradient)\n",
    "toc = time.perf_counter()\n",
    "toc - tic"
   ]
  },
  {
   "cell_type": "code",
   "execution_count": 126,
   "id": "ea2ab29e",
   "metadata": {},
   "outputs": [
    {
     "data": {
      "text/plain": [
       "[<matplotlib.lines.Line2D at 0x7fc375c85e50>]"
      ]
     },
     "execution_count": 126,
     "metadata": {},
     "output_type": "execute_result"
    },
    {
     "data": {
      "image/png": "[encoded data removed]",
      "text/plain": [
       "<Figure size 432x288 with 1 Axes>"
      ]
     },
     "metadata": {
      "needs_background": "light"
     },
     "output_type": "display_data"
    }
   ],
   "source": [
    "plt.plot(res)"
   ]
  },
  {
   "cell_type": "code",
   "execution_count": 127,
   "id": "8c97f273",
   "metadata": {},
   "outputs": [
    {
     "data": {
      "text/plain": [
       "[<matplotlib.lines.Line2D at 0x7fc3758f70d0>]"
      ]
     },
     "execution_count": 127,
     "metadata": {},
     "output_type": "execute_result"
    },
    {
     "data": {
      "image/png": "[encoded data removed]",
      "text/plain": [
       "<Figure size 432x288 with 1 Axes>"
      ]
     },
     "metadata": {
      "needs_background": "light"
     },
     "output_type": "display_data"
    }
   ],
   "source": [
    "plt.plot([(1+r)/(1-r) for r in res[200:] if r != None and r < 1])"
   ]
  }
 ],
 "metadata": {
  "kernelspec": {
   "display_name": "Python 3 (ipykernel)",
   "language": "python",
   "name": "python3"
  },
  "language_info": {
   "codemirror_mode": {
    "name": "ipython",
    "version": 3
   },
   "file_extension": ".py",
   "mimetype": "text/x-python",
   "name": "python",
   "nbconvert_exporter": "python",
   "pygments_lexer": "ipython3",
   "version": "3.9.9"
  }
 },
 "nbformat": 4,
 "nbformat_minor": 5
}
