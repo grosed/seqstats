{
 "cells": [
  {
   "cell_type": "markdown",
   "id": "f474e6d1",
   "metadata": {},
   "source": [
    "# <u>Absolute Deviation of a Sorted Container T via Bisection</u>"
   ]
  },
  {
   "cell_type": "markdown",
   "id": "e51d3bfd",
   "metadata": {},
   "source": [
    "## Install this notebooks dependencies"
   ]
  },
  {
   "cell_type": "code",
   "execution_count": 1,
   "id": "9e1bfe7f",
   "metadata": {},
   "outputs": [
    {
     "name": "stdout",
     "output_type": "stream",
     "text": [
      "Collecting scipy\n",
      "  Using cached scipy-1.8.1-cp39-cp39-manylinux_2_17_x86_64.manylinux2014_x86_64.whl (42.2 MB)\n",
      "Collecting numpy<1.25.0,>=1.17.3\n",
      "  Using cached numpy-1.22.4-cp39-cp39-manylinux_2_17_x86_64.manylinux2014_x86_64.whl (16.8 MB)\n",
      "Installing collected packages: numpy, scipy\n",
      "Successfully installed numpy-1.22.4 scipy-1.8.1\n",
      "Collecting matplotlib\n",
      "  Using cached matplotlib-3.5.2-cp39-cp39-manylinux_2_5_x86_64.manylinux1_x86_64.whl (11.2 MB)\n",
      "Collecting kiwisolver>=1.0.1\n",
      "  Downloading kiwisolver-1.4.3-cp39-cp39-manylinux_2_12_x86_64.manylinux2010_x86_64.whl (1.6 MB)\n",
      "\u001b[2K     \u001b[38;2;114;156;31m━━━━━━━━━━━━━━━━━━━━━━━━━━━━━━━━━━━━━━━━\u001b[0m \u001b[32m1.6/1.6 MB\u001b[0m \u001b[31m1.2 MB/s\u001b[0m eta \u001b[36m0:00:00\u001b[0mm eta \u001b[36m0:00:01\u001b[0m[36m0:00:01\u001b[0m0m\n",
      "\u001b[?25hRequirement already satisfied: pyparsing>=2.2.1 in ./env/lib/python3.9/site-packages (from matplotlib) (3.0.9)\n",
      "Requirement already satisfied: python-dateutil>=2.7 in ./env/lib/python3.9/site-packages (from matplotlib) (2.8.2)\n",
      "Collecting pillow>=6.2.0\n",
      "  Downloading Pillow-9.1.1-cp39-cp39-manylinux_2_17_x86_64.manylinux2014_x86_64.whl (3.1 MB)\n",
      "\u001b[2K     \u001b[38;2;114;156;31m━━━━━━━━━━━━━━━━━━━━━━━━━━━━━━━━━━━━━━━━\u001b[0m \u001b[32m3.1/3.1 MB\u001b[0m \u001b[31m2.0 MB/s\u001b[0m eta \u001b[36m0:00:00\u001b[0mm eta \u001b[36m0:00:01\u001b[0m0:01\u001b[0m:01\u001b[0m\n",
      "\u001b[?25hRequirement already satisfied: packaging>=20.0 in ./env/lib/python3.9/site-packages (from matplotlib) (21.3)\n",
      "Collecting fonttools>=4.22.0\n",
      "  Using cached fonttools-4.33.3-py3-none-any.whl (930 kB)\n",
      "Requirement already satisfied: numpy>=1.17 in ./env/lib/python3.9/site-packages (from matplotlib) (1.22.4)\n",
      "Collecting cycler>=0.10\n",
      "  Using cached cycler-0.11.0-py3-none-any.whl (6.4 kB)\n",
      "Requirement already satisfied: six>=1.5 in ./env/lib/python3.9/site-packages (from python-dateutil>=2.7->matplotlib) (1.16.0)\n",
      "Installing collected packages: pillow, kiwisolver, fonttools, cycler, matplotlib\n",
      "Successfully installed cycler-0.11.0 fonttools-4.33.3 kiwisolver-1.4.3 matplotlib-3.5.2 pillow-9.1.1\n",
      "Collecting sortedcontainers\n",
      "  Using cached sortedcontainers-2.4.0-py2.py3-none-any.whl (29 kB)\n",
      "Installing collected packages: sortedcontainers\n",
      "Successfully installed sortedcontainers-2.4.0\n"
     ]
    }
   ],
   "source": [
    "!python -m pip install scipy\n",
    "!python -m pip install matplotlib\n",
    "!python -m pip install sortedcontainers"
   ]
  },
  {
   "cell_type": "markdown",
   "id": "d4bcb46e",
   "metadata": {},
   "source": [
    "## Implementation"
   ]
  },
  {
   "cell_type": "code",
   "execution_count": 15,
   "id": "c4a6dfc7",
   "metadata": {},
   "outputs": [],
   "source": [
    "from math import floor,ceil,sqrt"
   ]
  },
  {
   "cell_type": "code",
   "execution_count": 16,
   "id": "52d14a11",
   "metadata": {},
   "outputs": [],
   "source": [
    "def mad(T) :\n",
    "    if len(T) == 1 :\n",
    "        return 0\n",
    "    mu = (T[ceil(len(T)/2) - 1] + T[floor(len(T)/2)])/2\n",
    "    a = 0\n",
    "    b = floor(len(T)/2) - 1\n",
    "    c = ceil(len(T)/2)\n",
    "    d = len(T) - 1  \n",
    "   \n",
    "    def bisect(T,Ix,Iy,mu) :\n",
    "        a,b = Ix\n",
    "        c,d = Iy\n",
    "        if b - a < 2 :\n",
    "            if len(T) % 2 == 0 :\n",
    "                return (max(mu-T[b],T[c]-mu) + min(mu-T[a],T[d]-mu))/2\n",
    "            else :\n",
    "                return min(max(mu-T[b],T[c]-mu),min(mu-T[a],T[d]-mu))\n",
    "        (a,b) = (a + floor((b-a)/2), a + ceil((b-a)/2)) \n",
    "        (c,d) = (c + floor((d-c)/2), c + ceil((d-c)/2))\n",
    "        if 4*mu > T[a] + T[b] + T[c] + T[d] :\n",
    "            Ix = (a,Ix[1])\n",
    "            Iy = (c,Iy[1])\n",
    "        else :\n",
    "            Ix = (Ix[0],b)\n",
    "            Iy = (Iy[0],d)\n",
    "        return bisect(T,Ix,Iy,mu)\n",
    "    \n",
    "    return bisect(T,(a,b),(c,d),mu)"
   ]
  },
  {
   "cell_type": "markdown",
   "id": "01a72270",
   "metadata": {},
   "source": [
    "## Tests"
   ]
  },
  {
   "cell_type": "markdown",
   "id": "3ba08da0",
   "metadata": {},
   "source": [
    "### Check algorithm against SciPy using a standard list"
   ]
  },
  {
   "cell_type": "code",
   "execution_count": 20,
   "id": "727c53ea",
   "metadata": {},
   "outputs": [
    {
     "name": "stdout",
     "output_type": "stream",
     "text": [
      "[]\n"
     ]
    }
   ],
   "source": [
    "from scipy.stats import median_abs_deviation\n",
    "from random import random\n",
    "diff = []\n",
    "for i in range(200) :\n",
    "    L = [random() for j in range(5000)]\n",
    "    T = sorted(L)\n",
    "    diff.append(mad(T)- median_abs_deviation(L))\n",
    "print([d for d in diff if d != 0]) # expect an empty list"
   ]
  },
  {
   "cell_type": "markdown",
   "id": "7c1b8dd7",
   "metadata": {},
   "source": [
    "### Check algorithm against SciPy using a SortedList from sortedcontainers"
   ]
  },
  {
   "cell_type": "code",
   "execution_count": 18,
   "id": "f5505f62",
   "metadata": {},
   "outputs": [],
   "source": [
    "from sortedcontainers import SortedList"
   ]
  },
  {
   "cell_type": "code",
   "execution_count": 21,
   "id": "b5dbdcff",
   "metadata": {},
   "outputs": [
    {
     "name": "stdout",
     "output_type": "stream",
     "text": [
      "[]\n"
     ]
    }
   ],
   "source": [
    "diff = []\n",
    "for i in range(200) :\n",
    "    L = [random() for j in range(5000)]\n",
    "    T = SortedList(L)\n",
    "    diff.append(mad(T)- median_abs_deviation(L))\n",
    "print([d for d in diff if d != 0]) # expect an empty list"
   ]
  }
 ],
 "metadata": {
  "kernelspec": {
   "display_name": "Python 3 (ipykernel)",
   "language": "python",
   "name": "python3"
  },
  "language_info": {
   "codemirror_mode": {
    "name": "ipython",
    "version": 3
   },
   "file_extension": ".py",
   "mimetype": "text/x-python",
   "name": "python",
   "nbconvert_exporter": "python",
   "pygments_lexer": "ipython3",
   "version": "3.9.9"
  }
 },
 "nbformat": 4,
 "nbformat_minor": 5
}
