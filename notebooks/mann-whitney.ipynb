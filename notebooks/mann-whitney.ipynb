{
 "cells": [
  {
   "cell_type": "code",
   "execution_count": 138,
   "id": "333ca97f",
   "metadata": {},
   "outputs": [],
   "source": [
    "from sortedcontainers import SortedList\n",
    "from math import sqrt\n",
    "from scipy.stats import mannwhitneyu,norm"
   ]
  },
  {
   "cell_type": "code",
   "execution_count": 196,
   "id": "52996d81",
   "metadata": {},
   "outputs": [],
   "source": [
    "\n",
    "class seq_mann_whitney_U :\n",
    "    def __init__(self) :\n",
    "        self.X = SortedList()\n",
    "        self.Y = SortedList()\n",
    "        self.U = None\n",
    "        self.t = None\n",
    "    def add_x(self,val) :\n",
    "        if len(self.Y) != 0 :       \n",
    "            if self.U == None :\n",
    "                self.U = 0.0\n",
    "            lb = self.Y.bisect_left(val)\n",
    "            rb = self.Y.bisect_right(val)\n",
    "            if lb != rb :\n",
    "                self.U += 0.5\n",
    "            self.U += lb\n",
    "        self.X.add(val)\n",
    "    def add_y(self,val) :\n",
    "        if len(self.X) != 0 :       \n",
    "            if self.U == None :\n",
    "                self.U = 0.0\n",
    "            lb = self.X.bisect_left(val)\n",
    "            rb = self.X.bisect_right(val)\n",
    "            if lb != rb :\n",
    "                self.U += 0.5\n",
    "            self.U += len(S.X) - rb\n",
    "        self.Y.add(val)\n",
    "    def asymptotic_p(self) :\n",
    "        if self.U == None :\n",
    "            return None\n",
    "        nx = len(self.X)\n",
    "        ny = len(self.Y)\n",
    "        mu = nx*ny/2\n",
    "        sigma = sqrt(mu*(nx+ny+1)/6)\n",
    "        return norm.pdf((self.U - mu)/sigma)\n",
    "        \n",
    "    \n",
    "    \n",
    "        "
   ]
  },
  {
   "cell_type": "code",
   "execution_count": 204,
   "id": "d94ff0f3",
   "metadata": {},
   "outputs": [],
   "source": [
    "S = seq_mann_whitney_U()"
   ]
  },
  {
   "cell_type": "code",
   "execution_count": 205,
   "id": "84b8cc09",
   "metadata": {},
   "outputs": [],
   "source": [
    "Y = [19,22,16,29,24]\n",
    "X = [20,11,17,12]\n",
    "for y in Y :\n",
    "    S.add_y(y)\n",
    "for x in X :\n",
    "    S.add_x(x)"
   ]
  },
  {
   "cell_type": "code",
   "execution_count": 206,
   "id": "4689a5de",
   "metadata": {},
   "outputs": [
    {
     "name": "stdout",
     "output_type": "stream",
     "text": [
      "SortedList([11, 12, 17, 20])\n",
      "SortedList([16, 19, 22, 24, 29])\n",
      "3.0\n",
      "0.09172699738279745\n"
     ]
    }
   ],
   "source": [
    "print(S.X)\n",
    "print(S.Y)\n",
    "print(S.U)\n",
    "print(S.asymptotic_p())"
   ]
  },
  {
   "cell_type": "code",
   "execution_count": 69,
   "id": "aa7921cb",
   "metadata": {},
   "outputs": [],
   "source": [
    "from scipy.stats import mannwhitneyu"
   ]
  },
  {
   "cell_type": "code",
   "execution_count": 180,
   "id": "007dbcd7",
   "metadata": {},
   "outputs": [
    {
     "data": {
      "text/plain": [
       "MannwhitneyuResult(statistic=3.0, pvalue=0.11134688653314041)"
      ]
     },
     "execution_count": 180,
     "metadata": {},
     "output_type": "execute_result"
    }
   ],
   "source": [
    "mannwhitneyu(Y,X,method=\"asymptotic\")"
   ]
  },
  {
   "cell_type": "code",
   "execution_count": 171,
   "id": "c5a5385d",
   "metadata": {},
   "outputs": [
    {
     "data": {
      "text/plain": [
       "0.0916708317993663"
      ]
     },
     "execution_count": 171,
     "metadata": {},
     "output_type": "execute_result"
    }
   ],
   "source": [
    "norm.pdf(-1.715,0,1)"
   ]
  },
  {
   "cell_type": "code",
   "execution_count": 191,
   "id": "76ceeaac",
   "metadata": {},
   "outputs": [
    {
     "data": {
      "text/plain": [
       "0.09172699738279745"
      ]
     },
     "execution_count": 191,
     "metadata": {},
     "output_type": "execute_result"
    }
   ],
   "source": [
    "norm.pdf(-1.7146428199482247,0,1)"
   ]
  },
  {
   "cell_type": "code",
   "execution_count": 208,
   "id": "b6afb4d9",
   "metadata": {},
   "outputs": [
    {
     "data": {
      "text/plain": [
       "0.3969525474770118"
      ]
     },
     "execution_count": 208,
     "metadata": {},
     "output_type": "execute_result"
    }
   ],
   "source": [
    "norm.pdf(0.3,0,1)"
   ]
  },
  {
   "cell_type": "code",
   "execution_count": null,
   "id": "ecf749e3",
   "metadata": {},
   "outputs": [],
   "source": []
  }
 ],
 "metadata": {
  "kernelspec": {
   "display_name": "Python 3 (ipykernel)",
   "language": "python",
   "name": "python3"
  },
  "language_info": {
   "codemirror_mode": {
    "name": "ipython",
    "version": 3
   },
   "file_extension": ".py",
   "mimetype": "text/x-python",
   "name": "python",
   "nbconvert_exporter": "python",
   "pygments_lexer": "ipython3",
   "version": "3.9.9"
  }
 },
 "nbformat": 4,
 "nbformat_minor": 5
}
