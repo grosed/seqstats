{
 "cells": [
  {
   "cell_type": "code",
   "execution_count": 1,
   "id": "333ca97f",
   "metadata": {},
   "outputs": [],
   "source": [
    "from sortedcontainers import SortedList\n",
    "from scipy.stats import norm\n",
    "from math import sqrt\n",
    "from scipy.stats import mannwhitneyu\n",
    "from numpy.random import uniform,poisson,seed,normal"
   ]
  },
  {
   "cell_type": "code",
   "execution_count": 2,
   "id": "cea29db3",
   "metadata": {},
   "outputs": [],
   "source": [
    "def add(X,Ux,Y,Uy,T,val) :\n",
    "    lb = X.bisect_left(val)\n",
    "    rb = X.bisect_right(val)\n",
    "    t = rb - lb\n",
    "    lb = Y.bisect_left(val)\n",
    "    rb = Y.bisect_right(val)\n",
    "    t = t + rb - lb\n",
    "    T = T + 3*(t*t + t)   \n",
    "    if Ux == None :\n",
    "        Ux = 0.0\n",
    "    if lb != rb :\n",
    "        Ux += 0.5*(rb - lb)\n",
    "    Ux += lb\n",
    "    X.add(val)  \n",
    "    if len(Y) > 0 :\n",
    "        Uy = len(X)*len(Y) - Ux\n",
    "    return (X,Ux,Y,Uy,T)"
   ]
  },
  {
   "cell_type": "code",
   "execution_count": 3,
   "id": "84651292",
   "metadata": {},
   "outputs": [],
   "source": [
    "def remove(X,Ux,Y,Uy,T,val) :\n",
    "    X.remove(val)\n",
    "    lb = X.bisect_left(val)\n",
    "    rb = X.bisect_right(val)\n",
    "    t = rb - lb\n",
    "    lb = Y.bisect_left(val)\n",
    "    rb = Y.bisect_right(val)\n",
    "    t = t + rb - lb\n",
    "    T = T - 3*(t*t + t)  \n",
    "    if len(X) == 0 :\n",
    "         Ux = None\n",
    "    else :\n",
    "        if lb != rb :\n",
    "            Ux -= 0.5*(rb - lb)\n",
    "        Ux -= lb\n",
    "        if len(Y) > 0 :\n",
    "            Uy = len(X)*len(Y) - Ux\n",
    "    return (X,Ux,Y,Uy,T)"
   ]
  },
  {
   "cell_type": "code",
   "execution_count": 4,
   "id": "52996d81",
   "metadata": {},
   "outputs": [],
   "source": [
    "class seq_mann_whitney_U :\n",
    "    def __init__(self) :\n",
    "        self.X = SortedList()\n",
    "        self.Y = SortedList()\n",
    "        self.Ux = None\n",
    "        self.Uy = None\n",
    "        self.T = 0.0\n",
    "    def add_x(self,val) :\n",
    "        self.X,self.Ux,self.Y,self.Uy,self.T = add(self.X,self.Ux,self.Y,self.Uy,self.T,val)\n",
    "    def add_y(self,val) :\n",
    "        self.Y,self.Uy,self.X,self.Ux,self.T = add(self.Y,self.Uy,self.X,self.Ux,self.T,val)\n",
    "        return self \n",
    "    def remove_x(self,val) :\n",
    "        self.X,self.Ux,self.Y,self.Uy,self.T = remove(self.X,self.Ux,self.Y,self.Uy,self.T,val)\n",
    "    def remove_y(self,val) :\n",
    "        self.Y,self.Uy,self.X,self.Ux,self.T = remove(self.Y,self.Uy,self.X,self.Ux,self.T,val)\n",
    "    def asymptotic_z(self) :\n",
    "        if self.Ux == None or self.Uy == None :\n",
    "            return None\n",
    "        nx = len(self.X)\n",
    "        ny = len(self.Y)\n",
    "        n = nx + ny\n",
    "        mu = nx*ny/2\n",
    "        U = self.Ux\n",
    "        if self.Uy > U :\n",
    "            U = self.Uy  \n",
    "        sigma = sqrt((mu/6)*(n+1-self.T/(n*(n-1))))\n",
    "        if sigma == 0.0 :\n",
    "            return 0.0\n",
    "        return (U - mu)/sigma"
   ]
  },
  {
   "cell_type": "code",
   "execution_count": 5,
   "id": "d94ff0f3",
   "metadata": {},
   "outputs": [],
   "source": [
    "S = seq_mann_whitney_U()"
   ]
  },
  {
   "cell_type": "code",
   "execution_count": 6,
   "id": "84b8cc09",
   "metadata": {},
   "outputs": [],
   "source": [
    "Y = [19,22,16,29,24]\n",
    "X = [20,11,17,12]\n",
    "\n",
    "for y in Y :\n",
    "    S.add_y(y)\n",
    "for x in X :\n",
    "    S.add_x(x)"
   ]
  },
  {
   "cell_type": "code",
   "execution_count": 7,
   "id": "4689a5de",
   "metadata": {},
   "outputs": [
    {
     "name": "stdout",
     "output_type": "stream",
     "text": [
      "3.0\n",
      "17.0\n",
      "0.0\n",
      "1.7146428199482247\n",
      "0.0864107329737\n"
     ]
    }
   ],
   "source": [
    "print(S.Ux)\n",
    "print(S.Uy)\n",
    "print(S.T)\n",
    "print(S.asymptotic_z())\n",
    "print(2.0*norm.sf(S.asymptotic_z()))"
   ]
  },
  {
   "cell_type": "code",
   "execution_count": 8,
   "id": "007dbcd7",
   "metadata": {},
   "outputs": [
    {
     "data": {
      "text/plain": [
       "MannwhitneyuResult(statistic=17.0, pvalue=0.0864107329737)"
      ]
     },
     "execution_count": 8,
     "metadata": {},
     "output_type": "execute_result"
    }
   ],
   "source": [
    "mannwhitneyu(Y,X,method=\"asymptotic\",use_continuity=False)"
   ]
  },
  {
   "cell_type": "code",
   "execution_count": 9,
   "id": "972baa11",
   "metadata": {},
   "outputs": [],
   "source": [
    "seed(1)"
   ]
  },
  {
   "cell_type": "code",
   "execution_count": 10,
   "id": "9accc03e",
   "metadata": {},
   "outputs": [],
   "source": [
    "X = uniform(0,1,100)\n",
    "Y = uniform(0,1,100)"
   ]
  },
  {
   "cell_type": "code",
   "execution_count": 11,
   "id": "1eef0454",
   "metadata": {},
   "outputs": [],
   "source": [
    "S = seq_mann_whitney_U()\n",
    "for y in Y :\n",
    "    S.add_y(y)\n",
    "for x in X :\n",
    "    S.add_x(x)"
   ]
  },
  {
   "cell_type": "code",
   "execution_count": 12,
   "id": "2af6ef06",
   "metadata": {},
   "outputs": [
    {
     "name": "stdout",
     "output_type": "stream",
     "text": [
      "5024.0\n",
      "4976.0\n",
      "0.0\n",
      "0.058641333291026505\n",
      "0.9532377881057771\n"
     ]
    }
   ],
   "source": [
    "print(S.Ux)\n",
    "print(S.Uy)\n",
    "print(S.T)\n",
    "print(S.asymptotic_z())\n",
    "print(2.0*norm.sf(S.asymptotic_z()))"
   ]
  },
  {
   "cell_type": "code",
   "execution_count": 13,
   "id": "60b989d9",
   "metadata": {},
   "outputs": [
    {
     "data": {
      "text/plain": [
       "MannwhitneyuResult(statistic=5024.0, pvalue=0.9532377881057771)"
      ]
     },
     "execution_count": 13,
     "metadata": {},
     "output_type": "execute_result"
    }
   ],
   "source": [
    "mannwhitneyu(X,Y,method=\"asymptotic\",use_continuity=False)"
   ]
  },
  {
   "cell_type": "code",
   "execution_count": 14,
   "id": "c4447eea",
   "metadata": {},
   "outputs": [],
   "source": [
    "X = list(X) + [0.5,0.5]\n",
    "Y = list(Y) + [0.5,0.5]"
   ]
  },
  {
   "cell_type": "code",
   "execution_count": 15,
   "id": "22eae539",
   "metadata": {},
   "outputs": [],
   "source": [
    "S = seq_mann_whitney_U()\n",
    "for y in Y :\n",
    "    S.add_y(y)\n",
    "for x in X :\n",
    "    S.add_x(x)"
   ]
  },
  {
   "cell_type": "code",
   "execution_count": 16,
   "id": "cea1925e",
   "metadata": {},
   "outputs": [
    {
     "name": "stdout",
     "output_type": "stream",
     "text": [
      "5216.0\n",
      "5188.0\n",
      "60.0\n",
      "0.033208028349460524\n",
      "0.973508695957846\n"
     ]
    }
   ],
   "source": [
    "print(S.Ux)\n",
    "print(S.Uy)\n",
    "print(S.T)\n",
    "print(S.asymptotic_z())\n",
    "print(2.0*norm.sf(S.asymptotic_z()))"
   ]
  },
  {
   "cell_type": "code",
   "execution_count": 17,
   "id": "dd70b458",
   "metadata": {},
   "outputs": [
    {
     "data": {
      "text/plain": [
       "MannwhitneyuResult(statistic=5216.0, pvalue=0.973508695957846)"
      ]
     },
     "execution_count": 17,
     "metadata": {},
     "output_type": "execute_result"
    }
   ],
   "source": [
    "mannwhitneyu(X,Y,method=\"asymptotic\",use_continuity=False)"
   ]
  },
  {
   "cell_type": "markdown",
   "id": "3702e750",
   "metadata": {},
   "source": [
    "### online change detection"
   ]
  },
  {
   "cell_type": "code",
   "execution_count": 18,
   "id": "be23a19e",
   "metadata": {},
   "outputs": [],
   "source": [
    "class ocd :\n",
    "    def __init__(self,n,m) :\n",
    "        self.test = seq_mann_whitney_U()\n",
    "        self.X = list()\n",
    "        self.Y = list()\n",
    "        self.n = n\n",
    "        self.m = m\n",
    "        self.z = None\n",
    "    def push(self,x) :\n",
    "        if len(self.X) == self.n :\n",
    "            self.test.remove_x(self.X.pop(0))\n",
    "        if len(self.Y) == self.m :\n",
    "            self.test.remove_y(self.Y.pop(0))\n",
    "        self.X.append(x)\n",
    "        self.Y.append(x)\n",
    "        self.test.add_x(x)\n",
    "        self.test.add_y(x)\n",
    "        self.z = self.test.asymptotic_z()\n",
    "        "
   ]
  },
  {
   "cell_type": "code",
   "execution_count": 19,
   "id": "bcfc3693",
   "metadata": {},
   "outputs": [
    {
     "name": "stdout",
     "output_type": "stream",
     "text": [
      "alarm !!\n",
      "detected at  50210\n"
     ]
    }
   ],
   "source": [
    "n = 2000\n",
    "m = 1000\n",
    "S = ocd(n,m)\n",
    "X = list(poisson(1,50000)) + list(poisson(2,50000))\n",
    "c = 0\n",
    "for x in X :\n",
    "    S.push(x)\n",
    "    c = c +1 \n",
    "    if S.z > 2.3 :\n",
    "        print(\"alarm !!\")\n",
    "        print(\"detected at \",c)\n",
    "        break"
   ]
  }
 ],
 "metadata": {
  "kernelspec": {
   "display_name": "Python 3 (ipykernel)",
   "language": "python",
   "name": "python3"
  },
  "language_info": {
   "codemirror_mode": {
    "name": "ipython",
    "version": 3
   },
   "file_extension": ".py",
   "mimetype": "text/x-python",
   "name": "python",
   "nbconvert_exporter": "python",
   "pygments_lexer": "ipython3",
   "version": "3.9.9"
  }
 },
 "nbformat": 4,
 "nbformat_minor": 5
}
