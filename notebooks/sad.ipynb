{
 "cells": [
  {
   "cell_type": "code",
   "execution_count": 30,
   "id": "00da160b",
   "metadata": {},
   "outputs": [],
   "source": [
    "from math import ceil,floor\n",
    "import statistics\n",
    "from sortedcontainers import SortedList as ost"
   ]
  },
  {
   "cell_type": "code",
   "execution_count": 14,
   "id": "1baa0f98",
   "metadata": {},
   "outputs": [],
   "source": [
    "def median(T) :\n",
    "    return (T[ceil(len(T)/2) - 1] + T[floor(len(T)/2)])/2"
   ]
  },
  {
   "cell_type": "code",
   "execution_count": 173,
   "id": "5f040bd7",
   "metadata": {},
   "outputs": [],
   "source": [
    "def add(T,sad,val) :\n",
    "    if len(T) == 0 :\n",
    "        sad = 0\n",
    "        T.add(val)\n",
    "        return (T,sad)\n",
    "    mu_0 = median(T)\n",
    "    T.add(val)\n",
    "    mu_1 = median(T)\n",
    "    sad = sad + abs(val-mu_1)\n",
    "    if len(T)%2 == 0 :\n",
    "        sad = sad + abs(mu_1-mu_0)\n",
    "    return (T,sad)"
   ]
  }
 ],
 "metadata": {
  "kernelspec": {
   "display_name": "Python 3 (ipykernel)",
   "language": "python",
   "name": "python3"
  },
  "language_info": {
   "codemirror_mode": {
    "name": "ipython",
    "version": 3
   },
   "file_extension": ".py",
   "mimetype": "text/x-python",
   "name": "python",
   "nbconvert_exporter": "python",
   "pygments_lexer": "ipython3",
   "version": "3.9.9"
  }
 },
 "nbformat": 4,
 "nbformat_minor": 5
}
