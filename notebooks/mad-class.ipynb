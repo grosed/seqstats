{
 "cells": [
  {
   "cell_type": "markdown",
   "id": "5c7236de",
   "metadata": {},
   "source": [
    "# <u> Median Absolute Deviation Class </u>"
   ]
  },
  {
   "cell_type": "markdown",
   "id": "4a1f97b8",
   "metadata": {},
   "source": [
    "## Install this notebooks dependencies"
   ]
  },
  {
   "cell_type": "code",
   "execution_count": 1,
   "id": "390dc9a0",
   "metadata": {},
   "outputs": [
    {
     "name": "stdout",
     "output_type": "stream",
     "text": [
      "Requirement already satisfied: sortedcontainers in /home/grosedj/work/seqstats-env/env/lib/python3.9/site-packages (2.4.0)\n",
      "Requirement already satisfied: scipy in /home/grosedj/work/seqstats-env/env/lib/python3.9/site-packages (1.8.1)\n",
      "Requirement already satisfied: numpy<1.25.0,>=1.17.3 in /home/grosedj/work/seqstats-env/env/lib/python3.9/site-packages (from scipy) (1.22.4)\n"
     ]
    }
   ],
   "source": [
    "!python -m pip install sortedcontainers\n",
    "!python -m pip install scipy"
   ]
  },
  {
   "cell_type": "markdown",
   "id": "4b80b122",
   "metadata": {},
   "source": [
    "## Definition and Implementation"
   ]
  },
  {
   "cell_type": "code",
   "execution_count": 2,
   "id": "6242557f",
   "metadata": {},
   "outputs": [],
   "source": [
    "from sortedcontainers import SortedList"
   ]
  },
  {
   "cell_type": "code",
   "execution_count": 3,
   "id": "1394f0c8",
   "metadata": {},
   "outputs": [],
   "source": [
    "from math import floor,ceil"
   ]
  },
  {
   "cell_type": "code",
   "execution_count": 4,
   "id": "6cdb6934",
   "metadata": {},
   "outputs": [],
   "source": [
    "class mad :\n",
    "    '''mad is a class for efficiently maintaining the median absolute \n",
    "    deviation of a collection of data which is subject to dynamic updates.\n",
    "    The data is updated using the add and remove member functions both of\n",
    "    which employ an efficient algorithm for updating the median absolute \n",
    "    deviation which has, for n data elements, a computational complexity of\n",
    "    O(log(n)*log(n)).\n",
    "    \n",
    "    For details of the algorithm employed see \n",
    "    https://github.com/grosed/seqstats/tree/main/pdf/pseudo-code-library.pdf\n",
    "    \n",
    "    Attributes\n",
    "    ----------\n",
    "    value : float\n",
    "        If the seq_mad object has data elements then mad is the\n",
    "        value of the median absolute deviation, otherwise its \n",
    "        value is equal to None\n",
    "    \n",
    "    T : SortedList\n",
    "        A SortedList containing the data stored by the mad object. For \n",
    "        information regarding the SortedList data structure see \n",
    "        https://grantjenks.com/docs/sortedcontainers/sortedlist.html\n",
    "        \n",
    "    Methods\n",
    "    -------\n",
    "    add(x)\n",
    "        Adds the data element x\n",
    "        \n",
    "    remove(x)\n",
    "        removes the data element x  \n",
    "    '''\n",
    "    value : float\n",
    "    T : SortedList\n",
    "    def __mad_algorithm(self,T) :\n",
    "        if len(T) == 1 :\n",
    "            return 0\n",
    "        mu = (T[ceil(len(T)/2) - 1] + T[floor(len(T)/2)])/2\n",
    "        a = 0\n",
    "        b = floor(len(T)/2) - 1\n",
    "        c = ceil(len(T)/2)\n",
    "        d = len(T) - 1  \n",
    "   \n",
    "        def bisect(T,Ix,Iy,mu) :\n",
    "            a,b = Ix\n",
    "            c,d = Iy\n",
    "            if b - a < 2 :\n",
    "                if len(T) % 2 == 0 :\n",
    "                    return (max(mu-T[b],T[c]-mu) + min(mu-T[a],T[d]-mu))/2\n",
    "                else :\n",
    "                    return min(max(mu-T[b],T[c]-mu),min(mu-T[a],T[d]-mu))\n",
    "            (a,b) = (a + floor((b-a)/2), a + ceil((b-a)/2)) \n",
    "            (c,d) = (c + floor((d-c)/2), c + ceil((d-c)/2))\n",
    "            if 4*mu > T[a] + T[b] + T[c] + T[d] :\n",
    "                Ix = (a,Ix[1])\n",
    "                Iy = (c,Iy[1])\n",
    "            else :\n",
    "                Ix = (Ix[0],b)\n",
    "                Iy = (Iy[0],d)\n",
    "            return bisect(T,Ix,Iy,mu)\n",
    "    \n",
    "        return bisect(T,(a,b),(c,d),mu)\n",
    "    \n",
    "    def __init__(self) :\n",
    "        '''Creats an empty mad object.'''\n",
    "        self.T = SortedList()\n",
    "        self.value = None\n",
    "        \n",
    "    def add(self, x : float) -> None : \n",
    "        '''Adds a data element x to the mad object and updates the median \n",
    "    absolute deviation. The computational complexity of this method \n",
    "    is O(log(n)*log(n)) in the size of the data.\n",
    "           \n",
    "    Parameters\n",
    "    ----------\n",
    "    x : float\n",
    "        The data element to be added.\n",
    "        '''\n",
    "        self.T.add(x)\n",
    "        self.value = self.__mad_algorithm(self.T)\n",
    "        return None\n",
    "    \n",
    "    def remove(self, x : float) -> None :\n",
    "        '''Removes a data element x to the mad object and updates the median \n",
    "    absolute deviation. The computational complexity of this method \n",
    "    is O(log(n)*log(n)) in the size of the data.\n",
    "        \n",
    "    If x is not in the data contained in the mad object then an exception\n",
    "    is thrown.\n",
    "        \n",
    "    Parameters\n",
    "    ----------\n",
    "    x : float\n",
    "        The data element to be removed.\n",
    "        \n",
    "    Raises\n",
    "    ------\n",
    "    ValueError\n",
    "        If x is not in the data contained in the mad object.\n",
    "        '''\n",
    "        self.T.remove(x)\n",
    "        if len(self.T) == 0 :\n",
    "            self.value = None\n",
    "        else :\n",
    "            self.value = self.__mad_algorithm(self.T)\n",
    "        return None\n",
    "            "
   ]
  },
  {
   "cell_type": "code",
   "execution_count": 5,
   "id": "2785e928",
   "metadata": {},
   "outputs": [
    {
     "name": "stdout",
     "output_type": "stream",
     "text": [
      "Help on class mad in module __main__:\n",
      "\n",
      "class mad(builtins.object)\n",
      " |  mad is a class for efficiently maintaining the median absolute \n",
      " |  deviation of a collection of data which is subject to dynamic updates.\n",
      " |  The data is updated using the add and remove member functions both of\n",
      " |  which employ an efficient algorithm for updating the median absolute \n",
      " |  deviation which has, for n data elements, a computational complexity of\n",
      " |  O(log(n)*log(n)).\n",
      " |  \n",
      " |  For details of the algorithm employed see \n",
      " |  https://github.com/grosed/seqstats/tree/main/pdf/pseudo-code-library.pdf\n",
      " |  \n",
      " |  Attributes\n",
      " |  ----------\n",
      " |  value : float\n",
      " |      If the seq_mad object has data elements then mad is the\n",
      " |      value of the median absolute deviation, otherwise its \n",
      " |      value is equal to None\n",
      " |  \n",
      " |  T : SortedList\n",
      " |      A SortedList containing the data stored by the mad object. For \n",
      " |      information regarding the SortedList data structure see \n",
      " |      https://grantjenks.com/docs/sortedcontainers/sortedlist.html\n",
      " |      \n",
      " |  Methods\n",
      " |  -------\n",
      " |  add(x)\n",
      " |      Adds the data element x\n",
      " |      \n",
      " |  remove(x)\n",
      " |      removes the data element x\n",
      " |  \n",
      " |  Methods defined here:\n",
      " |  \n",
      " |  __init__(self)\n",
      " |      Creats an empty mad object.\n",
      " |  \n",
      " |  add(self, x: float) -> None\n",
      " |      Adds a data element x to the mad object and updates the median \n",
      " |      absolute deviation. The computational complexity of this method \n",
      " |      is O(log(n)*log(n)) in the size of the data.\n",
      " |             \n",
      " |      Parameters\n",
      " |      ----------\n",
      " |      x : float\n",
      " |          The data element to be added.\n",
      " |  \n",
      " |  remove(self, x: float) -> None\n",
      " |      Removes a data element x to the mad object and updates the median \n",
      " |      absolute deviation. The computational complexity of this method \n",
      " |      is O(log(n)*log(n)) in the size of the data.\n",
      " |          \n",
      " |      If x is not in the data contained in the mad object then an exception\n",
      " |      is thrown.\n",
      " |          \n",
      " |      Parameters\n",
      " |      ----------\n",
      " |      x : float\n",
      " |          The data element to be removed.\n",
      " |          \n",
      " |      Raises\n",
      " |      ------\n",
      " |      ValueError\n",
      " |          If x is not in the data contained in the mad object.\n",
      " |  \n",
      " |  ----------------------------------------------------------------------\n",
      " |  Data descriptors defined here:\n",
      " |  \n",
      " |  __dict__\n",
      " |      dictionary for instance variables (if defined)\n",
      " |  \n",
      " |  __weakref__\n",
      " |      list of weak references to the object (if defined)\n",
      " |  \n",
      " |  ----------------------------------------------------------------------\n",
      " |  Data and other attributes defined here:\n",
      " |  \n",
      " |  __annotations__ = {'T': <class 'sortedcontainers.sortedlist.SortedList...\n",
      "\n"
     ]
    }
   ],
   "source": [
    "help(mad)"
   ]
  },
  {
   "cell_type": "markdown",
   "id": "07d07d28",
   "metadata": {},
   "source": [
    "## Tests"
   ]
  },
  {
   "cell_type": "code",
   "execution_count": 6,
   "id": "91ed5ce1",
   "metadata": {},
   "outputs": [],
   "source": [
    "import unittest\n",
    "from random import random,seed\n",
    "from statistics import median\n",
    "\n",
    "\n",
    "class test_mad(unittest.TestCase):\n",
    "    \n",
    "    def test_correct_mad_odd_number_of_elements(self) :\n",
    "        seed(0)\n",
    "        A = mad()\n",
    "        X = [random() for i in range(500)]\n",
    "        for x in X :\n",
    "            A.add(x)\n",
    "        X_tilde = median(X)\n",
    "        self.assertEqual(A.value,median([abs(x-X_tilde) for x in X]))\n",
    "        \n",
    "    def test_correct_mad_even_number_of_elements(self) :\n",
    "        seed(0)\n",
    "        A = mad()\n",
    "        X = [random() for i in range(501)]\n",
    "        for x in X :\n",
    "            A.add(x)\n",
    "        X_tilde = median(X)\n",
    "        self.assertEqual(A.value,median([abs(x-X_tilde) for x in X]))\n",
    "        \n",
    "        \n",
    "    def test_independent_instances(self) :\n",
    "        seed(0)\n",
    "        A = mad()\n",
    "        X = [random() for i in range(500)]\n",
    "        for x in X :\n",
    "            A.add(x)\n",
    "        X_tilde = median(X)\n",
    "        self.assertEqual(A.value,median([abs(x-X_tilde) for x in X]))\n",
    "        B = mad()\n",
    "        seed(1)\n",
    "        X = [random() for i in range(500)]\n",
    "        for x in X :\n",
    "            B.add(x)\n",
    "        X_tilde = median(X)\n",
    "        self.assertEqual(B.value,median([abs(x-X_tilde) for x in X]))\n",
    "        \n",
    "    def test_add(self) : \n",
    "        A = mad()\n",
    "        A.add(3.14)\n",
    "        A.add(2.14)\n",
    "        self.assertEqual(A.T,SortedList([2.14,3.14]))   \n",
    "        \n",
    "    \n",
    "    def test_remove_when_exists(self) : \n",
    "        A = mad()\n",
    "        A.add(3.14)\n",
    "        A.remove(3.14)\n",
    "        self.assertEqual(A.T,SortedList([]))\n",
    "    \n",
    "    def test_remove_when_not_exists(self) : \n",
    "        A = mad()\n",
    "        A.add(3.14)\n",
    "        with self.assertRaises(ValueError):\n",
    "            A.remove(2.14)\n",
    "            \n",
    "    def test_remove_when_empty(self) : \n",
    "        A = mad()\n",
    "        with self.assertRaises(ValueError):\n",
    "            A.remove(3.14)\n"
   ]
  },
  {
   "cell_type": "code",
   "execution_count": 7,
   "id": "4ce71ead",
   "metadata": {},
   "outputs": [
    {
     "name": "stderr",
     "output_type": "stream",
     "text": [
      "test_add (__main__.test_mad) ... ok\n",
      "test_correct_mad_even_number_of_elements (__main__.test_mad) ... ok\n",
      "test_correct_mad_odd_number_of_elements (__main__.test_mad) ... ok\n",
      "test_independent_instances (__main__.test_mad) ... ok\n",
      "test_remove_when_empty (__main__.test_mad) ... ok\n",
      "test_remove_when_exists (__main__.test_mad) ... ok\n",
      "test_remove_when_not_exists (__main__.test_mad) ... ok\n",
      "\n",
      "----------------------------------------------------------------------\n",
      "Ran 7 tests in 0.038s\n",
      "\n",
      "OK\n"
     ]
    },
    {
     "data": {
      "text/plain": [
       "<unittest.main.TestProgram at 0x7fc02409e3a0>"
      ]
     },
     "execution_count": 7,
     "metadata": {},
     "output_type": "execute_result"
    }
   ],
   "source": [
    "unittest.main(argv=[''], verbosity=2, exit=False)"
   ]
  },
  {
   "cell_type": "markdown",
   "id": "f1c38285",
   "metadata": {},
   "source": [
    "## Performance"
   ]
  },
  {
   "cell_type": "markdown",
   "id": "00024e88",
   "metadata": {},
   "source": [
    "### compare with SciPy "
   ]
  },
  {
   "cell_type": "code",
   "execution_count": 8,
   "id": "f8e1b2dc",
   "metadata": {},
   "outputs": [],
   "source": [
    "from random import seed\n",
    "import time\n",
    "import statistics\n",
    "from collections import deque\n",
    "from scipy.stats import median_abs_deviation"
   ]
  },
  {
   "cell_type": "code",
   "execution_count": 9,
   "id": "3d8c3f9b",
   "metadata": {},
   "outputs": [],
   "source": [
    "W = [2**n for n in range(1,17)]\n",
    "seqstats_times = []\n",
    "scipy_times = []\n",
    "for w in W :\n",
    "    A = mad()\n",
    "    D = deque([random() for i in range(w)])\n",
    "    for x in D :\n",
    "        A.add(x)\n",
    "    nreps = 100\n",
    "    seqstats_reps = []\n",
    "    scipy_reps = [] \n",
    "    for i in range(nreps) :\n",
    "        x = random()\n",
    "        y = D[0]\n",
    "        start_time = time.perf_counter()\n",
    "        A.add(x)\n",
    "        A.remove(y)\n",
    "        seqstats_reps.append(time.perf_counter() - start_time)\n",
    "        start_time = time.perf_counter()\n",
    "        D.append(x)\n",
    "        D.popleft()\n",
    "        median_abs_deviation(D)\n",
    "        scipy_reps.append(time.perf_counter() - start_time)\n",
    "    seqstats_times.append(statistics.mean(seqstats_reps))\n",
    "    scipy_times.append(statistics.mean(scipy_reps))"
   ]
  },
  {
   "cell_type": "code",
   "execution_count": 10,
   "id": "5539185c",
   "metadata": {},
   "outputs": [
    {
     "data": {
      "text/plain": [
       "[<matplotlib.lines.Line2D at 0x7fbfa7225910>]"
      ]
     },
     "execution_count": 10,
     "metadata": {},
     "output_type": "execute_result"
    },
    {
     "data": {
      "image/png": "[encoded data removed]",
      "text/plain": [
       "<Figure size 432x288 with 1 Axes>"
      ]
     },
     "metadata": {
      "needs_background": "light"
     },
     "output_type": "display_data"
    }
   ],
   "source": [
    "import matplotlib.pyplot as plt\n",
    "plt.plot(W,seqstats_times)\n",
    "plt.plot(W,scipy_times)"
   ]
  },
  {
   "cell_type": "code",
   "execution_count": 11,
   "id": "817d49ef",
   "metadata": {},
   "outputs": [
    {
     "data": {
      "text/plain": [
       "[6.90175179516647,\n",
       " 5.36300530189282,\n",
       " 3.4434854269686417,\n",
       " 2.9757079053196778,\n",
       " 2.5996926124086843,\n",
       " 2.4097636819323,\n",
       " 2.2902419241360934,\n",
       " 2.1909839473083874,\n",
       " 2.3124386772534815,\n",
       " 2.6022121303100945,\n",
       " 2.1771526549088938,\n",
       " 2.6304710001231313,\n",
       " 3.4451683549398107,\n",
       " 5.332579515189199,\n",
       " 8.855645188954922,\n",
       " 14.98867335846918]"
      ]
     },
     "execution_count": 11,
     "metadata": {},
     "output_type": "execute_result"
    }
   ],
   "source": [
    "[y/x for x,y in zip(seqstats_times,scipy_times)]"
   ]
  }
 ],
 "metadata": {
  "kernelspec": {
   "display_name": "Python 3 (ipykernel)",
   "language": "python",
   "name": "python3"
  },
  "language_info": {
   "codemirror_mode": {
    "name": "ipython",
    "version": 3
   },
   "file_extension": ".py",
   "mimetype": "text/x-python",
   "name": "python",
   "nbconvert_exporter": "python",
   "pygments_lexer": "ipython3",
   "version": "3.9.9"
  }
 },
 "nbformat": 4,
 "nbformat_minor": 5
}
