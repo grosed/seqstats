{
 "cells": [
  {
   "cell_type": "code",
   "execution_count": 1,
   "id": "4ad6af0d-cc9d-4d51-8acc-7512349b0efa",
   "metadata": {},
   "outputs": [],
   "source": [
    "import numpy as np\n",
    "import matplotlib.pyplot as plt\n",
    "from collections import deque\n",
    "from pymonad.tools import curry\n",
    "from math import sqrt,log,inf\n",
    "from functools import reduce\n",
    "from statistics import mean,stdev"
   ]
  },
  {
   "cell_type": "code",
   "execution_count": 2,
   "id": "e365939a-e9b2-4c5a-9f3a-e2415e0370db",
   "metadata": {},
   "outputs": [],
   "source": [
    "# importing reduce() from functools\n",
    "from functools import reduce\n",
    "def compose(*funcs):\n",
    "    return reduce(lambda f,g : lambda x : f(g(x)), funcs, lambda x : x)"
   ]
  },
  {
   "cell_type": "code",
   "execution_count": 3,
   "id": "4cee9cc9-829c-4b10-a8b3-e491d700d54c",
   "metadata": {},
   "outputs": [],
   "source": [
    "# patterns : [closure,class,object]\n",
    "def class_sumstats(size = None) : # sumstats class (a factory)\n",
    "    wsize = size if size == None else size + 1 \n",
    "    sumstats = deque([(0.0,0.0,0.0)],wsize)\n",
    "    def cardinality() :\n",
    "        nonlocal sumstats\n",
    "        return len(sumstats) - 1 \n",
    "    def domain() :\n",
    "        nonlocal sumstats\n",
    "        return range(len(sumstats)-1)\n",
    "    def push(y) :\n",
    "        nonlocal sumstats,wsize\n",
    "        last = sumstats[-1]\n",
    "        sumstats.append((y,last[1] + y,last[2] + y*y))\n",
    "        if len(sumstats) == sumstats.maxlen :\n",
    "            y0,sy0,syy0 = sumstats[0]\n",
    "            sumstats = deque([(y - y0,sy - sy0,syy - syy0) for y,sy,syy in sumstats],\n",
    "                             wsize)\n",
    "        return value,domain,cardinality,push\n",
    "    def value(i) :\n",
    "        return sumstats[i]\n",
    "    return value,domain,cardinality,push"
   ]
  },
  {
   "cell_type": "code",
   "execution_count": 4,
   "id": "b508fa80-101c-4175-a140-b80a86458956",
   "metadata": {},
   "outputs": [],
   "source": [
    "def class_normal_mean_segment_cost(sumstats) :\n",
    "    ss_value,ss_domain,ss_cardinality = sumstats\n",
    "    def cardinality() :\n",
    "        nonlocal ss_cardinality\n",
    "        n = ss_cardinality()\n",
    "        return int(n*(n+1)/2)\n",
    "    def value(a,b) :\n",
    "        nonlocal ss_value\n",
    "        _,sya,syya = ss_value(a)\n",
    "        _,syb,syyb = ss_value(b+1)\n",
    "        val = syb - sya\n",
    "        val *= val\n",
    "        val /= (b - a + 1)\n",
    "        val = -val\n",
    "        val += syyb - syya\n",
    "        return val\n",
    "    def domain() :\n",
    "        nonlocal ss_domain\n",
    "        outer = ss_domain()\n",
    "        for a in outer :\n",
    "            inner = ss_domain()\n",
    "            for b in inner :\n",
    "                if b >= a :\n",
    "                    yield (a,b)\n",
    "    return value,domain,cardinality\n",
    "        "
   ]
  },
  {
   "cell_type": "code",
   "execution_count": 5,
   "id": "8fe54c38-e8df-4099-b74e-89413c54a77b",
   "metadata": {},
   "outputs": [],
   "source": [
    "def class_right_cost(segment_cost) :\n",
    "    sc_value,sc_domain,sc_cardinality = segment_cost\n",
    "    def cardinality() :\n",
    "        nonlocal sc_cardinality\n",
    "        return int((sqrt(8*sc_cardinality()+1)-1)/2)\n",
    "    def domain() :\n",
    "        return range(cardinality())\n",
    "    def value(i) :\n",
    "        nonlocal sc_value\n",
    "        return sc_value(i,cardinality()-1)\n",
    "    return value,domain,cardinality"
   ]
  },
  {
   "cell_type": "code",
   "execution_count": 6,
   "id": "4f344cbd-1353-4fd2-a15e-50d35eb2c86c",
   "metadata": {},
   "outputs": [],
   "source": [
    "def class_left_cost(segment_cost) :\n",
    "    sc_value,sc_domain,sc_cardinality = segment_cost\n",
    "    def cardinality() :\n",
    "        nonlocal sc_cardinality\n",
    "        return int((sqrt(8*sc_cardinality()+1)-1)/2)\n",
    "    def domain() :\n",
    "        return range(cardinality())\n",
    "    def value(i) :\n",
    "        nonlocal sc_value\n",
    "        return sc_value(0,i)\n",
    "    return value,domain,cardinality"
   ]
  },
  {
   "cell_type": "code",
   "execution_count": 7,
   "id": "90fa8c61-45a5-4a01-bec6-483197d93439",
   "metadata": {},
   "outputs": [],
   "source": [
    "def class_left_right_cost(left_cost,right_cost) :\n",
    "    l_value,_,_ = left_cost\n",
    "    r_value,domain,cardinality = right_cost\n",
    "    def value(i) :\n",
    "        nonlocal l_value,r_value\n",
    "        res = r_value(i)\n",
    "        if i == 0 :\n",
    "            return res\n",
    "        return l_value(i-1) + res\n",
    "    return value,domain,cardinality"
   ]
  },
  {
   "cell_type": "code",
   "execution_count": 8,
   "id": "77127919-d96e-4802-83e5-7520d3ee5de2",
   "metadata": {},
   "outputs": [],
   "source": [
    "def class_summed_cost(segment_cost) :\n",
    "    sc_value,sc_domain,sc_cardinality = segment_cost\n",
    "    def cardinality() :\n",
    "        nonlocal sc_cardinality\n",
    "        return int((sqrt(8*sc_cardinality()+1)-1)/2)\n",
    "    def domain() :\n",
    "        return range(cardinality())\n",
    "    def value(i) :\n",
    "        nonlocal sc_value\n",
    "        b = cardinality()-1\n",
    "        res = sc_value(i,b)\n",
    "        if i == 0 :\n",
    "            return res\n",
    "        return sc_value(0,i-1) + res\n",
    "    return value,domain,cardinality"
   ]
  },
  {
   "cell_type": "code",
   "execution_count": 9,
   "id": "cc69f5fc-cc57-4cd8-a9b1-9ad23576374b",
   "metadata": {},
   "outputs": [],
   "source": [
    "def split(cost) :\n",
    "    value,domain,_ = cost\n",
    "    vmin,loc = min([(value(i),i) for i in domain()])\n",
    "    return (value(0) - vmin,loc-1)"
   ]
  },
  {
   "cell_type": "code",
   "execution_count": 10,
   "id": "90ed4747-b896-47ea-9fe2-82ecb05db596",
   "metadata": {},
   "outputs": [],
   "source": [
    "@curry(3)\n",
    "def scale(mu,sigma,x) :\n",
    "    return (x - mu)/sigma"
   ]
  },
  {
   "cell_type": "code",
   "execution_count": 11,
   "id": "63cac506-0c37-48e7-ad72-59abed6f5079",
   "metadata": {},
   "outputs": [],
   "source": [
    "def class_ordered_function(ordered) :\n",
    "    def cardinality() :\n",
    "        nonlocal ordered\n",
    "        return len(ordered)\n",
    "    def domain() :\n",
    "        return range(cardinality())\n",
    "    def value(i) :\n",
    "        nonlocal ordered\n",
    "        return ordered[i]\n",
    "    def push(val) :\n",
    "        nonlocal ordered\n",
    "        ordered.append(val)\n",
    "        return value,domain,cardinality,push\n",
    "    return value,domain,cardinality,push"
   ]
  },
  {
   "cell_type": "code",
   "execution_count": 88,
   "id": "b13f9b01-26a9-4a53-832e-16fd7ffbdca9",
   "metadata": {},
   "outputs": [],
   "source": [
    "def capa_cpts(cpts) :\n",
    "    value,_,cardinality,_ = cpts\n",
    "    pos = cardinality() - 1\n",
    "    locations = []\n",
    "    while pos > 0 :\n",
    "        location,category = value(pos) # no anomaly\n",
    "        if category == 0 : # collective anomaly\n",
    "            locations.insert(0,(location,pos))\n",
    "        if category == 2 : # point anomaly\n",
    "            locations.insert(0,location)\n",
    "        pos = location\n",
    "    return locations"
   ]
  },
  {
   "cell_type": "markdown",
   "id": "4b93a4cd-09cd-4c63-b995-7715e7dbcb19",
   "metadata": {},
   "source": [
    "## At Most One Change (AMOC)"
   ]
  },
  {
   "cell_type": "code",
   "execution_count": 12,
   "id": "88c28839-b25f-4968-9e0b-f519f566a54f",
   "metadata": {},
   "outputs": [],
   "source": [
    "\n",
    "np.random.seed(0)\n",
    "Z = [float(z) for z in list(np.random.normal(0, 1, 1000)) + \n",
    "    list(np.random.normal(1, 1, 1000))] # +\n",
    "    # list(np.random.normal(0, 1, 1000))]\n",
    "trans = scale(mean(Z),stdev(Z))\n",
    "value,domain,cardinality,push = class_sumstats(2000)\n",
    "temp = class_normal_mean_segment_cost((value,domain,cardinality))\n",
    "value,domain,cardinality = cost = class_left_right_cost(class_left_cost(temp),class_right_cost(temp))\n",
    "\n",
    "history = list()\n",
    "for z in Z : \n",
    "    push(trans(z))\n",
    "    history.append(split(cost))"
   ]
  },
  {
   "cell_type": "code",
   "execution_count": 13,
   "id": "5a7daef9-68a7-4c06-a0c2-900bcc1364cf",
   "metadata": {},
   "outputs": [
    {
     "data": {
      "text/plain": [
       "[<matplotlib.lines.Line2D at 0x75becb590690>]"
      ]
     },
     "execution_count": 13,
     "metadata": {},
     "output_type": "execute_result"
    },
    {
     "data": {
      "image/png": "[encoded data removed]",
      "text/plain": [
       "<Figure size 640x480 with 1 Axes>"
      ]
     },
     "metadata": {},
     "output_type": "display_data"
    }
   ],
   "source": [
    "Y = [value(x) for x in domain()]\n",
    "plt.plot(Y)"
   ]
  },
  {
   "cell_type": "code",
   "execution_count": 14,
   "id": "5d1bec9a-d3eb-41d9-b1ee-b43e311b8841",
   "metadata": {},
   "outputs": [
    {
     "data": {
      "text/plain": [
       "[<matplotlib.lines.Line2D at 0x75bec993d090>]"
      ]
     },
     "execution_count": 14,
     "metadata": {},
     "output_type": "execute_result"
    },
    {
     "data": {
      "image/png": "[encoded data removed]",
      "text/plain": [
       "<Figure size 640x480 with 1 Axes>"
      ]
     },
     "metadata": {},
     "output_type": "display_data"
    }
   ],
   "source": [
    "plt.plot([v for v,_ in history])"
   ]
  },
  {
   "cell_type": "code",
   "execution_count": 15,
   "id": "817fec37-1761-49f1-ac56-705630c16c53",
   "metadata": {},
   "outputs": [],
   "source": [
    "# [i for v,i in history if v > 2*log(len(Z))]"
   ]
  },
  {
   "cell_type": "markdown",
   "id": "8c0c3ef2-cd88-4781-a526-318200b5b074",
   "metadata": {},
   "source": [
    "## Optimal Partitioning (OP)"
   ]
  },
  {
   "cell_type": "code",
   "execution_count": 278,
   "id": "c163f7d3-0375-4dda-abb4-09f3945e2721",
   "metadata": {},
   "outputs": [],
   "source": [
    "def op_cpts(cpts) :\n",
    "    value,_,cardinality,_ = cpts\n",
    "    pos = cardinality() - 1\n",
    "    locations = []\n",
    "    while pos > 0 :\n",
    "        pos = pos - value(pos)\n",
    "        locations = [pos] + locations\n",
    "    return locations[1:]"
   ]
  },
  {
   "cell_type": "code",
   "execution_count": 279,
   "id": "ed7f66df-90af-41b8-b7d0-ce5d83d6ecd8",
   "metadata": {},
   "outputs": [],
   "source": [
    "np.random.seed(1)\n",
    "Z = [float(z) for z in list(np.random.normal(0, 1, 900)) + \n",
    "    list(np.random.normal(1, 1, 200)) +\n",
    "    list(np.random.normal(0, 1, 900))]\n",
    "# n = len(Z)\n",
    "n = 1500\n",
    "trans = scale(mean(Z),stdev(Z))\n",
    "value,domain,cardinality,push = class_sumstats(n)\n",
    "value,domain,cardinality = rcost = class_right_cost(class_normal_mean_segment_cost((value,domain,cardinality)))\n",
    "\n",
    "history = list()\n",
    "F,domain_F,cardinality_F,push_F = class_ordered_function(deque([],maxlen=n))\n",
    "cpts,domain_cpts,cardinality_cpts,push_cpts = class_ordered_function(deque([],maxlen=n))\n",
    "beta = 2*log(len(Z))\n",
    "for z in Z : \n",
    "    push(trans(z))\n",
    "    value,domain,cardinality = cost = class_left_right_cost((F,domain_F,cardinality_F),rcost)\n",
    "    severity,location = split(cost)\n",
    "    if severity > beta :\n",
    "        push_F(value(location) + beta)\n",
    "        push_cpts(cardinality_cpts() - location)\n",
    "    else :\n",
    "        push_F(value(0))\n",
    "        push_cpts(cardinality_cpts())\n",
    "    # normalise F\n",
    "    f0 = F(0)\n",
    "    F,domain_F,cardinality_F,push_F = class_ordered_function(deque([F(i) - f0 for i in domain_F()],maxlen=n)) \n",
    "    \n",
    "        \n",
    "        "
   ]
  },
  {
   "cell_type": "code",
   "execution_count": 280,
   "id": "fe428b88-287e-44e7-b964-ce9a789d1c2a",
   "metadata": {},
   "outputs": [
    {
     "data": {
      "text/plain": [
       "[399, 601]"
      ]
     },
     "execution_count": 280,
     "metadata": {},
     "output_type": "execute_result"
    }
   ],
   "source": [
    "op_cpts((cpts,domain_cpts,cardinality_cpts,push_cpts))"
   ]
  },
  {
   "cell_type": "markdown",
   "id": "53657cf8-52da-408d-a317-2f47ec5bbedb",
   "metadata": {},
   "source": [
    "## CAPA"
   ]
  },
  {
   "cell_type": "code",
   "execution_count": 298,
   "id": "c7899fb3-6a52-4995-a10c-883fed4c8578",
   "metadata": {},
   "outputs": [],
   "source": [
    "np.random.seed(1)\n",
    "Z = [float(z) for z in list(np.random.normal(0, 1, 900)) + \n",
    "    list(np.random.normal(1, 1, 200)) +\n",
    "    list(np.random.normal(0, 1, 900))]\n",
    "Z[200] = 10\n",
    "n = len(Z)\n",
    "# n = 1250\n",
    "trans = scale(mean(Z),stdev(Z))\n",
    "value,domain,cardinality,push = class_sumstats(n)\n",
    "value,domain,cardinality = rcost = class_right_cost(class_normal_mean_segment_cost((value,domain,cardinality)))\n",
    "\n",
    "\n",
    "history = list()\n",
    "F,domain_F,cardinality_F,push_F = class_ordered_function(deque([],maxlen=n))\n",
    "cpts,domain_cpts,cardinality_cpts,push_cpts = class_ordered_function(deque([],maxlen=n))\n",
    "beta = 4*log(len(Z))\n",
    "beta_dash =  3*log(len(Z))\n",
    "for z in Z :\n",
    "    z_dash = trans(z)\n",
    "    push(z_dash)\n",
    "    value,domain,cardinality = cost = class_left_right_cost((F,domain_F,cardinality_F),rcost)\n",
    "    severity,location = split(cost)\n",
    "    fprev = inf\n",
    "    if cardinality_F() > 0 :\n",
    "        fprev = F(cardinality_F()-1)\n",
    "    if severity > beta :\n",
    "        f = value(location) + beta\n",
    "        # pos = location\n",
    "        pos = cardinality_cpts() - location\n",
    "    else :\n",
    "        f = value(0)\n",
    "        pos = cardinality_cpts() - location\n",
    "        # pos = 0 \n",
    "    C1 = (f,pos,0) # collective\n",
    "    C2 = (fprev + z_dash*z_dash,pos,1) # none\n",
    "    C3 = (fprev + 1  + beta_dash,pos,2) # point\n",
    "    a,b,c = min(C1,C2,C3)\n",
    "    push_F(a)\n",
    "    push_cpts((b,c))\n",
    "    # normlize F\n",
    "    f0 = F(0)\n",
    "    F,domain_F,cardinality_F,push_F = class_ordered_function(deque([F(i) - f0 for i in domain_F()],maxlen=n)) \n",
    "\n",
    "    "
   ]
  },
  {
   "cell_type": "code",
   "execution_count": 281,
   "id": "9a2c6e8f-e1ef-4e33-bc08-a6bca68113c9",
   "metadata": {},
   "outputs": [],
   "source": [
    "def op_cpts(cpts) :\n",
    "    value,_,cardinality,_ = cpts\n",
    "    pos = cardinality() - 1\n",
    "    locations = []\n",
    "    while pos > 0 :\n",
    "        pos = pos - value(pos)\n",
    "        locations = [pos] + locations\n",
    "    return locations[1:]"
   ]
  },
  {
   "cell_type": "code",
   "execution_count": 286,
   "id": "ae29ffa4-27eb-49e1-b5b4-7deeb45aa8b7",
   "metadata": {},
   "outputs": [],
   "source": [
    "def capa_cpts(cpts) :\n",
    "    value,_,cardinality,_ = cpts\n",
    "    pos = cardinality() - 1\n",
    "    locations = []\n",
    "    while pos > 0 :\n",
    "        location,category = value(pos)\n",
    "        pos = pos - location\n",
    "        if category == 0 : # collective anomaly\n",
    "            locations.insert(0,(pos,pos + location))\n",
    "        if category == 2 : # point anomaly\n",
    "            locations.insert(0,pos)\n",
    "    return locations"
   ]
  },
  {
   "cell_type": "code",
   "execution_count": 299,
   "id": "fc06d7d6-4181-4078-992d-ccb123415770",
   "metadata": {},
   "outputs": [
    {
     "data": {
      "text/plain": [
       "[199, (900, 1101)]"
      ]
     },
     "execution_count": 299,
     "metadata": {},
     "output_type": "execute_result"
    }
   ],
   "source": [
    "capa_cpts((cpts,domain_cpts,cardinality_cpts,push_cpts))"
   ]
  },
  {
   "cell_type": "code",
   "execution_count": 261,
   "id": "d1aae363-6c76-42c5-b813-6f550968ed53",
   "metadata": {},
   "outputs": [
    {
     "data": {
      "text/plain": [
       "1456"
      ]
     },
     "execution_count": 261,
     "metadata": {},
     "output_type": "execute_result"
    }
   ],
   "source": [
    "1999-543"
   ]
  },
  {
   "cell_type": "code",
   "execution_count": 243,
   "id": "0cab012b-9e48-4d38-a3b9-874fcac09c83",
   "metadata": {},
   "outputs": [
    {
     "data": {
      "text/plain": [
       "[<matplotlib.lines.Line2D at 0x75bebc71d210>]"
      ]
     },
     "execution_count": 243,
     "metadata": {},
     "output_type": "execute_result"
    },
    {
     "data": {
      "image/png": "[encoded data removed]",
      "text/plain": [
       "<Figure size 640x480 with 1 Axes>"
      ]
     },
     "metadata": {},
     "output_type": "display_data"
    }
   ],
   "source": [
    "plt.plot([cpts(i)[0] for i in domain_cpts()])"
   ]
  },
  {
   "cell_type": "code",
   "execution_count": 244,
   "id": "dc5ada13-445c-4a50-8386-4f0ef89c38f4",
   "metadata": {},
   "outputs": [
    {
     "data": {
      "text/plain": [
       "[<matplotlib.lines.Line2D at 0x75bebc4e0190>]"
      ]
     },
     "execution_count": 244,
     "metadata": {},
     "output_type": "execute_result"
    },
    {
     "data": {
      "image/png": "[encoded data removed]",
      "text/plain": [
       "<Figure size 640x480 with 1 Axes>"
      ]
     },
     "metadata": {},
     "output_type": "display_data"
    }
   ],
   "source": [
    "plt.plot([cpts(i)[1] for i in domain_cpts()])"
   ]
  },
  {
   "cell_type": "code",
   "execution_count": 56,
   "id": "bbb84636-574c-44e5-914e-f7420aa85a95",
   "metadata": {},
   "outputs": [
    {
     "data": {
      "text/plain": [
       "(199, 2)"
      ]
     },
     "execution_count": 56,
     "metadata": {},
     "output_type": "execute_result"
    }
   ],
   "source": [
    "cpts(200)"
   ]
  },
  {
   "cell_type": "code",
   "execution_count": null,
   "id": "b7f17841-fcd7-430d-bcc9-bc05e18d90fa",
   "metadata": {},
   "outputs": [],
   "source": []
  },
  {
   "cell_type": "code",
   "execution_count": 86,
   "id": "067115f5-ceee-49ce-aa3b-bd4b09393785",
   "metadata": {},
   "outputs": [],
   "source": [
    "def capa_cpts(cpts) :\n",
    "    value,_,cardinality,_ = cpts\n",
    "    pos = cardinality() - 1\n",
    "    locations = []\n",
    "    while pos > 0 :\n",
    "        location,category = value(pos) # no anomaly\n",
    "        if category == 0 : # collective anomaly\n",
    "            locations.insert(0,(location,pos))\n",
    "        if category == 2 : # point anomaly\n",
    "            locations.insert(0,location)\n",
    "        pos = location\n",
    "    return locations\n",
    "            \n",
    "        \n",
    "        "
   ]
  },
  {
   "cell_type": "code",
   "execution_count": 87,
   "id": "d49632a3-a490-4fb4-b7e1-3de6e554d00c",
   "metadata": {},
   "outputs": [
    {
     "data": {
      "text/plain": [
       "[199, (900, 1101)]"
      ]
     },
     "execution_count": 87,
     "metadata": {},
     "output_type": "execute_result"
    }
   ],
   "source": [
    "capa_cpts((cpts,domain_cpts,cardinality_cpts,push_cpts))"
   ]
  }
 ],
 "metadata": {
  "kernelspec": {
   "display_name": "Python 3 (ipykernel)",
   "language": "python",
   "name": "python3"
  },
  "language_info": {
   "codemirror_mode": {
    "name": "ipython",
    "version": 3
   },
   "file_extension": ".py",
   "mimetype": "text/x-python",
   "name": "python",
   "nbconvert_exporter": "python",
   "pygments_lexer": "ipython3",
   "version": "3.11.0"
  }
 },
 "nbformat": 4,
 "nbformat_minor": 5
}
