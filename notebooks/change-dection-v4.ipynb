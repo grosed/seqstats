{
 "cells": [
  {
   "cell_type": "code",
   "execution_count": 17,
   "id": "4ad6af0d-cc9d-4d51-8acc-7512349b0efa",
   "metadata": {},
   "outputs": [],
   "source": [
    "import numpy as np\n",
    "import matplotlib.pyplot as plt\n",
    "from collections import deque\n",
    "from pymonad.tools import curry\n",
    "from math import sqrt,log,inf\n",
    "from functools import reduce\n",
    "from statistics import mean,stdev"
   ]
  },
  {
   "cell_type": "markdown",
   "id": "9af35ba0-fdfb-446c-809b-0eb95e9465c5",
   "metadata": {},
   "source": [
    "## Utilities"
   ]
  },
  {
   "cell_type": "code",
   "execution_count": 18,
   "id": "e365939a-e9b2-4c5a-9f3a-e2415e0370db",
   "metadata": {},
   "outputs": [],
   "source": [
    "# importing reduce() from functools\n",
    "from functools import reduce\n",
    "def compose(*funcs):\n",
    "    return reduce(lambda f,g : lambda x : f(g(x)), funcs, lambda x : x)"
   ]
  },
  {
   "cell_type": "code",
   "execution_count": 19,
   "id": "4cee9cc9-829c-4b10-a8b3-e491d700d54c",
   "metadata": {},
   "outputs": [],
   "source": [
    "# patterns : [closure,class,object]\n",
    "def class_sumstats(size = None) : # sumstats class (a factory)\n",
    "    wsize = size if size == None else size + 1 \n",
    "    sumstats = deque([(0.0,0.0,0.0)],wsize)\n",
    "    def cardinality() :\n",
    "        nonlocal sumstats\n",
    "        return len(sumstats) - 1 \n",
    "    def domain() :\n",
    "        nonlocal sumstats\n",
    "        return range(len(sumstats)-1)\n",
    "    def push(y) :\n",
    "        nonlocal sumstats,wsize\n",
    "        last = sumstats[-1]\n",
    "        sumstats.append((y,last[1] + y,last[2] + y*y))\n",
    "        if len(sumstats) == sumstats.maxlen :\n",
    "            y0,sy0,syy0 = sumstats[0]\n",
    "            sumstats = deque([(y - y0,sy - sy0,syy - syy0) for y,sy,syy in sumstats],\n",
    "                             wsize)\n",
    "        return value,domain,cardinality,capacity,push\n",
    "    def capacity() :\n",
    "        nonlocal wsize\n",
    "        return inf if wsize == None else wsize\n",
    "    def value(i) :\n",
    "        return sumstats[i]\n",
    "    return value,domain,cardinality,capacity,push"
   ]
  },
  {
   "cell_type": "code",
   "execution_count": 20,
   "id": "b508fa80-101c-4175-a140-b80a86458956",
   "metadata": {},
   "outputs": [],
   "source": [
    "def class_normal_mean_segment_cost(sumstats) :\n",
    "    ss_value,ss_domain,ss_cardinality = sumstats\n",
    "    def cardinality() :\n",
    "        nonlocal ss_cardinality\n",
    "        n = ss_cardinality()\n",
    "        return int(n*(n+1)/2)\n",
    "    def value(a,b) :\n",
    "        nonlocal ss_value\n",
    "        _,sya,syya = ss_value(a)\n",
    "        _,syb,syyb = ss_value(b+1)\n",
    "        val = syb - sya\n",
    "        val *= val\n",
    "        val /= (b - a + 1)\n",
    "        val = -val\n",
    "        val += syyb - syya\n",
    "        return val\n",
    "    def domain() :\n",
    "        nonlocal ss_domain\n",
    "        outer = ss_domain()\n",
    "        for a in outer :\n",
    "            inner = ss_domain()\n",
    "            for b in inner :\n",
    "                if b >= a :\n",
    "                    yield (a,b)\n",
    "    return value,domain,cardinality\n",
    "        "
   ]
  },
  {
   "cell_type": "code",
   "execution_count": 21,
   "id": "8fe54c38-e8df-4099-b74e-89413c54a77b",
   "metadata": {},
   "outputs": [],
   "source": [
    "def class_right_cost(segment_cost) :\n",
    "    sc_value,sc_domain,sc_cardinality = segment_cost\n",
    "    def cardinality() :\n",
    "        nonlocal sc_cardinality\n",
    "        return int((sqrt(8*sc_cardinality()+1)-1)/2)\n",
    "    def domain() :\n",
    "        return range(cardinality())\n",
    "    def value(i) :\n",
    "        nonlocal sc_value\n",
    "        return sc_value(i,cardinality()-1)\n",
    "    return value,domain,cardinality"
   ]
  },
  {
   "cell_type": "code",
   "execution_count": 22,
   "id": "4f344cbd-1353-4fd2-a15e-50d35eb2c86c",
   "metadata": {},
   "outputs": [],
   "source": [
    "def class_left_cost(segment_cost) :\n",
    "    sc_value,sc_domain,sc_cardinality = segment_cost\n",
    "    def cardinality() :\n",
    "        nonlocal sc_cardinality\n",
    "        return int((sqrt(8*sc_cardinality()+1)-1)/2)\n",
    "    def domain() :\n",
    "        return range(cardinality())\n",
    "    def value(i) :\n",
    "        nonlocal sc_value\n",
    "        return sc_value(0,i)\n",
    "    return value,domain,cardinality"
   ]
  },
  {
   "cell_type": "code",
   "execution_count": 23,
   "id": "90fa8c61-45a5-4a01-bec6-483197d93439",
   "metadata": {},
   "outputs": [],
   "source": [
    "def class_left_right_cost(left_cost,right_cost) :\n",
    "    l_value,_,_ = left_cost\n",
    "    r_value,domain,cardinality = right_cost\n",
    "    def value(i) :\n",
    "        nonlocal l_value,r_value\n",
    "        res = r_value(i)\n",
    "        if i == 0 :\n",
    "            return res\n",
    "        return l_value(i-1) + res\n",
    "    return value,domain,cardinality"
   ]
  },
  {
   "cell_type": "code",
   "execution_count": 24,
   "id": "77127919-d96e-4802-83e5-7520d3ee5de2",
   "metadata": {},
   "outputs": [],
   "source": [
    "def class_summed_cost(segment_cost) :\n",
    "    sc_value,sc_domain,sc_cardinality = segment_cost\n",
    "    def cardinality() :\n",
    "        nonlocal sc_cardinality\n",
    "        return int((sqrt(8*sc_cardinality()+1)-1)/2)\n",
    "    def domain() :\n",
    "        return range(cardinality())\n",
    "    def value(i) :\n",
    "        nonlocal sc_value\n",
    "        b = cardinality()-1\n",
    "        res = sc_value(i,b)\n",
    "        if i == 0 :\n",
    "            return res\n",
    "        return sc_value(0,i-1) + res\n",
    "    return value,domain,cardinality"
   ]
  },
  {
   "cell_type": "code",
   "execution_count": 25,
   "id": "cc69f5fc-cc57-4cd8-a9b1-9ad23576374b",
   "metadata": {},
   "outputs": [],
   "source": [
    "def split(cost) :\n",
    "    value,domain,_ = cost\n",
    "    vmin,loc = min([(value(i),i) for i in domain()])\n",
    "    return (value(0) - vmin,loc-1)"
   ]
  },
  {
   "cell_type": "code",
   "execution_count": 26,
   "id": "90ed4747-b896-47ea-9fe2-82ecb05db596",
   "metadata": {},
   "outputs": [],
   "source": [
    "@curry(3)\n",
    "def scale(mu,sigma,x) :\n",
    "    return (x - mu)/sigma"
   ]
  },
  {
   "cell_type": "code",
   "execution_count": 27,
   "id": "63cac506-0c37-48e7-ad72-59abed6f5079",
   "metadata": {},
   "outputs": [],
   "source": [
    "def class_ordered_function(ordered) :\n",
    "    def cardinality() :\n",
    "        nonlocal ordered\n",
    "        return len(ordered)\n",
    "    def domain() :\n",
    "        return range(cardinality())\n",
    "    def value(i) :\n",
    "        nonlocal ordered\n",
    "        return ordered[i]\n",
    "    def push(val) :\n",
    "        nonlocal ordered\n",
    "        ordered.append(val)\n",
    "        return value,domain,cardinality,push\n",
    "    return value,domain,cardinality,push"
   ]
  },
  {
   "cell_type": "code",
   "execution_count": 28,
   "id": "b13f9b01-26a9-4a53-832e-16fd7ffbdca9",
   "metadata": {},
   "outputs": [],
   "source": [
    "def capa_cpts(cpts) :\n",
    "    value,_,cardinality,_ = cpts\n",
    "    pos = cardinality() - 1\n",
    "    locations = []\n",
    "    while pos > 0 :\n",
    "        location,category = value(pos) # no anomaly\n",
    "        if category == 0 : # collective anomaly\n",
    "            locations.insert(0,(location,pos))\n",
    "        if category == 2 : # point anomaly\n",
    "            locations.insert(0,location)\n",
    "        pos = location\n",
    "    return locations"
   ]
  },
  {
   "cell_type": "markdown",
   "id": "8db3fba3-08ba-4d88-ab9b-7621c2cc256f",
   "metadata": {},
   "source": [
    "## Cost Functions"
   ]
  },
  {
   "cell_type": "code",
   "execution_count": 29,
   "id": "176518b6-d1db-409a-9f06-8549d7dcc296",
   "metadata": {},
   "outputs": [],
   "source": [
    "def normal_mean(size) :\n",
    "    value,domain,cardinality,capacity,push = class_sumstats(size)\n",
    "    value,domain,cardinality = class_normal_mean_segment_cost((value,domain,cardinality))\n",
    "    return value,domain,cardinality,capacity,push"
   ]
  },
  {
   "cell_type": "markdown",
   "id": "7702107e-c8f6-49b3-9ea5-9263c7790b21",
   "metadata": {},
   "source": [
    "## At Most One Change (AMOC)"
   ]
  },
  {
   "cell_type": "code",
   "execution_count": 32,
   "id": "8dd45b84-3792-4aa5-9660-359596d565fe",
   "metadata": {},
   "outputs": [],
   "source": [
    "def amoc(cost) :\n",
    "    value,domain,cardinality,_,push_cost = cost\n",
    "    left = class_left_cost((value,domain,cardinality))\n",
    "    right = class_right_cost((value,domain,cardinality))\n",
    "    value,domain,cardinality = class_left_right_cost(left,right)\n",
    "    def push(x) :\n",
    "        nonlocal value,domain,cardinality,push_cost\n",
    "        push_cost(x)\n",
    "        return split((value,domain,_))\n",
    "    return push      "
   ]
  },
  {
   "cell_type": "markdown",
   "id": "05217875-d401-4ec2-aca4-54174f547277",
   "metadata": {},
   "source": [
    "## AMOC example 1"
   ]
  },
  {
   "cell_type": "code",
   "execution_count": 33,
   "id": "0ec50495-9db0-45de-bdf3-79d1efbb4e47",
   "metadata": {},
   "outputs": [],
   "source": [
    "np.random.seed(0)\n",
    "Z = [float(z) for z in list(np.random.normal(0, 1, 1000)) + \n",
    "    list(np.random.normal(1, 1, 1000)) +\n",
    "    list(np.random.normal(0, 1, 1000))]\n",
    "\n",
    "scan = compose(amoc(normal_mean(200)),scale(mean(Z),stdev(Z)))\n",
    "beta = 2*log(len(Z))\n",
    "history = list()\n",
    "i = 0\n",
    "for z in Z : \n",
    "    v,p = res = scan(z)\n",
    "    history.append(res)\n",
    "    if v > beta :\n",
    "        pass\n",
    "        # print(\"alarm at  \" + str(p) + \" at time \" + str(i))\n",
    "    i += 1"
   ]
  },
  {
   "cell_type": "code",
   "execution_count": 34,
   "id": "bc3e5148-574b-4c59-b8fb-5b3e41da08b9",
   "metadata": {},
   "outputs": [
    {
     "data": {
      "text/plain": [
       "[<matplotlib.lines.Line2D at 0x70431816fb50>]"
      ]
     },
     "execution_count": 34,
     "metadata": {},
     "output_type": "execute_result"
    },
    {
     "data": {
      "image/png": "[encoded data removed]",
      "text/plain": [
       "<Figure size 640x480 with 1 Axes>"
      ]
     },
     "metadata": {},
     "output_type": "display_data"
    }
   ],
   "source": [
    "plt.plot([v for v,_ in history])"
   ]
  },
  {
   "cell_type": "markdown",
   "id": "8c0c3ef2-cd88-4781-a526-318200b5b074",
   "metadata": {},
   "source": [
    "## Optimal Partitioning (OP)"
   ]
  },
  {
   "cell_type": "code",
   "execution_count": 106,
   "id": "c163f7d3-0375-4dda-abb4-09f3945e2721",
   "metadata": {},
   "outputs": [],
   "source": [
    "def op_cpts(cpts) :\n",
    "    value,_,cardinality,_ = cpts\n",
    "    pos = cardinality() - 1\n",
    "    locations = []\n",
    "    while pos > 0 :\n",
    "        pos = pos - value(pos)\n",
    "        locations = [pos] + locations\n",
    "    return locations[1:]"
   ]
  },
  {
   "cell_type": "code",
   "execution_count": 107,
   "id": "87193f0f-c63b-49ee-b1ee-41180c2f366b",
   "metadata": {},
   "outputs": [],
   "source": [
    "def op(S,x,beta) :\n",
    "    cost,F,cpts = S\n",
    "    value,domain,cardinality,capacity,push_cost = cost\n",
    "    right = class_right_cost((value,domain,cardinality))\n",
    "    F_value,domain_F,cardinality_F,push_F = F\n",
    "    cpts_value,domain_cpts,cardinality_cpts,push_cpts = cpts\n",
    "    push_cost(x)\n",
    "    value,domain,cardinality = class_left_right_cost((F_value,domain_F,cardinality_F),right)\n",
    "    severity,location = split((value,domain,cardinality))\n",
    "    if severity > beta :\n",
    "        push_F(value(location) + beta)\n",
    "        push_cpts(cardinality_cpts() - location)\n",
    "    else :\n",
    "        push_F(value(0))\n",
    "        push_cpts(cardinality_cpts())\n",
    "    return cost,F,cpts\n",
    "\n",
    "                           "
   ]
  },
  {
   "cell_type": "markdown",
   "id": "e8359bc8-69eb-4f11-8c23-34b178e4bdd3",
   "metadata": {},
   "source": [
    "## Changepoint"
   ]
  },
  {
   "cell_type": "code",
   "execution_count": 108,
   "id": "79471648-9f91-4bc3-9ba0-c288cdcca0ff",
   "metadata": {},
   "outputs": [],
   "source": [
    "def scale_F(S) :\n",
    "    cost,F,cpts = S\n",
    "    value,domain,_,_ = F\n",
    "    _,_,_,capacity,_ = cost\n",
    "    f0 = value(0)\n",
    "    F = class_ordered_function(deque([value(i) - f0 for i in domain()],maxlen=capacity()))\n",
    "    return cost,F,cpts"
   ]
  },
  {
   "cell_type": "code",
   "execution_count": 109,
   "id": "69941a1a-fa2c-47ab-927e-dafd68fc759f",
   "metadata": {},
   "outputs": [],
   "source": [
    "def changepoint(cost,beta) :\n",
    "    _,_,_,capacity,_ = cost\n",
    "    F = class_ordered_function(deque([],maxlen=capacity()))\n",
    "    cpts = class_ordered_function(deque([],maxlen=capacity()))\n",
    "    S = (cost,F,cpts)\n",
    "    def push(x) :\n",
    "        nonlocal S,beta\n",
    "        _,_,cpts = S = op(S,x,beta)\n",
    "        S = scale_F(S)\n",
    "        return op_cpts(cpts)\n",
    "    return push\n"
   ]
  },
  {
   "cell_type": "markdown",
   "id": "27da16e8-59ab-4412-8b73-2ff075b1f1a8",
   "metadata": {},
   "source": [
    "## Changepoints Example 1"
   ]
  },
  {
   "cell_type": "code",
   "execution_count": 113,
   "id": "94ee54af-8347-4c88-a14a-d9716a574ee5",
   "metadata": {},
   "outputs": [],
   "source": [
    "np.random.seed(1)\n",
    "Z = [float(z) for z in list(np.random.normal(0, 1, 900)) + \n",
    "    list(np.random.normal(1, 1, 200)) +\n",
    "    list(np.random.normal(0, 1, 900))]\n",
    "\n",
    "beta = 3*log(len(Z))\n",
    "cost = normal_mean(2000)\n",
    "scan = compose(changepoint(cost,beta),scale(mean(Z),stdev(Z)))\n",
    "history = list()\n",
    "for z in Z :\n",
    "    history.append(scan(z))\n"
   ]
  },
  {
   "cell_type": "code",
   "execution_count": 114,
   "id": "0af991b4-4f61-4b78-b78b-5b4588155257",
   "metadata": {},
   "outputs": [
    {
     "data": {
      "text/plain": [
       "[899, 1101]"
      ]
     },
     "execution_count": 114,
     "metadata": {},
     "output_type": "execute_result"
    }
   ],
   "source": [
    "history[-1]"
   ]
  },
  {
   "cell_type": "markdown",
   "id": "53657cf8-52da-408d-a317-2f47ec5bbedb",
   "metadata": {},
   "source": [
    "## CAPA"
   ]
  },
  {
   "cell_type": "code",
   "execution_count": 20,
   "id": "c7899fb3-6a52-4995-a10c-883fed4c8578",
   "metadata": {},
   "outputs": [],
   "source": [
    "np.random.seed(1)\n",
    "Z = [float(z) for z in list(np.random.normal(0, 1, 900)) + \n",
    "    list(np.random.normal(1, 1, 200)) +\n",
    "    list(np.random.normal(0, 1, 900))]\n",
    "Z[200] = 10\n",
    "n = len(Z)\n",
    "# n = 1250\n",
    "trans = scale(mean(Z),stdev(Z))\n",
    "value,domain,cardinality,push = class_sumstats(n)\n",
    "value,domain,cardinality = rcost = class_right_cost(class_normal_mean_segment_cost((value,domain,cardinality)))\n",
    "\n",
    "\n",
    "history = list()\n",
    "F,domain_F,cardinality_F,push_F = class_ordered_function(deque([],maxlen=n))\n",
    "cpts,domain_cpts,cardinality_cpts,push_cpts = class_ordered_function(deque([],maxlen=n))\n",
    "beta = 4*log(len(Z))\n",
    "beta_dash =  3*log(len(Z))\n",
    "for z in Z :\n",
    "    z_dash = trans(z)\n",
    "    push(z_dash)\n",
    "    value,domain,cardinality = cost = class_left_right_cost((F,domain_F,cardinality_F),rcost)\n",
    "    severity,location = split(cost)\n",
    "    fprev = inf\n",
    "    if cardinality_F() > 0 :\n",
    "        fprev = F(cardinality_F()-1)\n",
    "    if severity > beta :\n",
    "        f = value(location) + beta\n",
    "        # pos = location\n",
    "        pos = cardinality_cpts() - location\n",
    "    else :\n",
    "        f = value(0)\n",
    "        pos = cardinality_cpts() - location\n",
    "        # pos = 0 \n",
    "    C1 = (f,pos,0) # collective\n",
    "    C2 = (fprev + z_dash*z_dash,pos,1) # none\n",
    "    C3 = (fprev + 1  + beta_dash,pos,2) # point\n",
    "    a,b,c = min(C1,C2,C3)\n",
    "    push_F(a)\n",
    "    push_cpts((b,c))\n",
    "    # normlize F\n",
    "    f0 = F(0)\n",
    "    F,domain_F,cardinality_F,push_F = class_ordered_function(deque([F(i) - f0 for i in domain_F()],maxlen=n)) \n",
    "\n",
    "    "
   ]
  },
  {
   "cell_type": "code",
   "execution_count": null,
   "id": "a7d1c77f-582c-4e49-ba61-aa43f1af0f9b",
   "metadata": {},
   "outputs": [],
   "source": [
    "def capa(cost,beta,beta_tilde) :\n",
    "    _,_,_,capacity,_ = cost\n",
    "    F = class_ordered_function(deque([],maxlen=capacity()))\n",
    "    cpts = class_ordered_function(deque([],maxlen=capacity()))\n",
    "    S = (cost,F,cpts)\n",
    "    def push(x) :\n",
    "        nonlocal S,beta,beta_tilde\n",
    "        cost,F,cpts = S = op(S,x,beta)\n",
    "        S = scale_F(S)\n",
    "        \n",
    "        \n",
    "        return op_cpts(cpts)\n",
    "\n",
    "\n",
    "\n",
    "\n",
    "\n",
    "    \n",
    "    \n",
    "    cost,F,cpts = S\n",
    "    value,domain,cardinality,capacity,push_cost = cost\n",
    "    right = class_right_cost((value,domain,cardinality))\n",
    "    F_value,domain_F,cardinality_F,push_F = F\n",
    "    cpts_value,domain_cpts,cardinality_cpts,push_cpts = cpts\n",
    "    push_cost(x)\n",
    "    value,domain,cardinality = class_left_right_cost((F_value,domain_F,cardinality_F),right)\n",
    "    severity,location = split((value,domain,cardinality))\n",
    "    if severity > beta :\n",
    "        push_F(value(location) + beta)\n",
    "        push_cpts(cardinality_cpts() - location)\n",
    "    else :\n",
    "        push_F(value(0))\n",
    "        push_cpts(cardinality_cpts())\n",
    "    return cost,F,cpts"
   ]
  },
  {
   "cell_type": "code",
   "execution_count": 22,
   "id": "ae29ffa4-27eb-49e1-b5b4-7deeb45aa8b7",
   "metadata": {},
   "outputs": [],
   "source": [
    "def capa_cpts(cpts) :\n",
    "    value,_,cardinality,_ = cpts\n",
    "    pos = cardinality() - 1\n",
    "    locations = []\n",
    "    while pos > 0 :\n",
    "        location,category = value(pos)\n",
    "        pos = pos - location\n",
    "        if category == 0 : # collective anomaly\n",
    "            locations.insert(0,(pos,pos + location))\n",
    "        if category == 2 : # point anomaly\n",
    "            locations.insert(0,pos)\n",
    "    return locations"
   ]
  },
  {
   "cell_type": "code",
   "execution_count": 23,
   "id": "fc06d7d6-4181-4078-992d-ccb123415770",
   "metadata": {},
   "outputs": [
    {
     "data": {
      "text/plain": [
       "[199, (900, 1101)]"
      ]
     },
     "execution_count": 23,
     "metadata": {},
     "output_type": "execute_result"
    }
   ],
   "source": [
    "capa_cpts((cpts,domain_cpts,cardinality_cpts,push_cpts))"
   ]
  },
  {
   "cell_type": "code",
   "execution_count": 24,
   "id": "d1aae363-6c76-42c5-b813-6f550968ed53",
   "metadata": {},
   "outputs": [
    {
     "data": {
      "text/plain": [
       "1456"
      ]
     },
     "execution_count": 24,
     "metadata": {},
     "output_type": "execute_result"
    }
   ],
   "source": [
    "1999-543"
   ]
  },
  {
   "cell_type": "code",
   "execution_count": 25,
   "id": "0cab012b-9e48-4d38-a3b9-874fcac09c83",
   "metadata": {},
   "outputs": [
    {
     "data": {
      "text/plain": [
       "[<matplotlib.lines.Line2D at 0x7651701b40d0>]"
      ]
     },
     "execution_count": 25,
     "metadata": {},
     "output_type": "execute_result"
    },
    {
     "data": {
      "image/png": "[encoded data removed]",
      "text/plain": [
       "<Figure size 640x480 with 1 Axes>"
      ]
     },
     "metadata": {},
     "output_type": "display_data"
    }
   ],
   "source": [
    "plt.plot([cpts(i)[0] for i in domain_cpts()])"
   ]
  },
  {
   "cell_type": "code",
   "execution_count": 26,
   "id": "dc5ada13-445c-4a50-8386-4f0ef89c38f4",
   "metadata": {},
   "outputs": [
    {
     "data": {
      "text/plain": [
       "[<matplotlib.lines.Line2D at 0x7651653c9090>]"
      ]
     },
     "execution_count": 26,
     "metadata": {},
     "output_type": "execute_result"
    },
    {
     "data": {
      "image/png": "[encoded data removed]",
      "text/plain": [
       "<Figure size 640x480 with 1 Axes>"
      ]
     },
     "metadata": {},
     "output_type": "display_data"
    }
   ],
   "source": [
    "plt.plot([cpts(i)[1] for i in domain_cpts()])"
   ]
  },
  {
   "cell_type": "code",
   "execution_count": 27,
   "id": "bbb84636-574c-44e5-914e-f7420aa85a95",
   "metadata": {},
   "outputs": [
    {
     "data": {
      "text/plain": [
       "(1, 2)"
      ]
     },
     "execution_count": 27,
     "metadata": {},
     "output_type": "execute_result"
    }
   ],
   "source": [
    "cpts(200)"
   ]
  },
  {
   "cell_type": "code",
   "execution_count": null,
   "id": "b7f17841-fcd7-430d-bcc9-bc05e18d90fa",
   "metadata": {},
   "outputs": [],
   "source": []
  },
  {
   "cell_type": "code",
   "execution_count": 28,
   "id": "067115f5-ceee-49ce-aa3b-bd4b09393785",
   "metadata": {},
   "outputs": [],
   "source": [
    "def capa_cpts(cpts) :\n",
    "    value,_,cardinality,_ = cpts\n",
    "    pos = cardinality() - 1\n",
    "    locations = []\n",
    "    while pos > 0 :\n",
    "        location,category = value(pos) # no anomaly\n",
    "        if category == 0 : # collective anomaly\n",
    "            locations.insert(0,(location,pos))\n",
    "        if category == 2 : # point anomaly\n",
    "            locations.insert(0,location)\n",
    "        pos = location\n",
    "    return locations\n",
    "            \n",
    "        \n",
    "        "
   ]
  },
  {
   "cell_type": "code",
   "execution_count": 29,
   "id": "d49632a3-a490-4fb4-b7e1-3de6e554d00c",
   "metadata": {},
   "outputs": [
    {
     "ename": "KeyboardInterrupt",
     "evalue": "",
     "output_type": "error",
     "traceback": [
      "\u001b[0;31m---------------------------------------------------------------------------\u001b[0m",
      "\u001b[0;31mKeyboardInterrupt\u001b[0m                         Traceback (most recent call last)",
      "Cell \u001b[0;32mIn[29], line 1\u001b[0m\n\u001b[0;32m----> 1\u001b[0m \u001b[43mcapa_cpts\u001b[49m\u001b[43m(\u001b[49m\u001b[43m(\u001b[49m\u001b[43mcpts\u001b[49m\u001b[43m,\u001b[49m\u001b[43mdomain_cpts\u001b[49m\u001b[43m,\u001b[49m\u001b[43mcardinality_cpts\u001b[49m\u001b[43m,\u001b[49m\u001b[43mpush_cpts\u001b[49m\u001b[43m)\u001b[49m\u001b[43m)\u001b[49m\n",
      "Cell \u001b[0;32mIn[28], line 5\u001b[0m, in \u001b[0;36mcapa_cpts\u001b[0;34m(cpts)\u001b[0m\n\u001b[1;32m      3\u001b[0m pos \u001b[38;5;241m=\u001b[39m cardinality() \u001b[38;5;241m-\u001b[39m \u001b[38;5;241m1\u001b[39m\n\u001b[1;32m      4\u001b[0m locations \u001b[38;5;241m=\u001b[39m []\n\u001b[0;32m----> 5\u001b[0m \u001b[38;5;28;01mwhile\u001b[39;00m pos \u001b[38;5;241m>\u001b[39m \u001b[38;5;241m0\u001b[39m :\n\u001b[1;32m      6\u001b[0m     location,category \u001b[38;5;241m=\u001b[39m value(pos) \u001b[38;5;66;03m# no anomaly\u001b[39;00m\n\u001b[1;32m      7\u001b[0m     \u001b[38;5;28;01mif\u001b[39;00m category \u001b[38;5;241m==\u001b[39m \u001b[38;5;241m0\u001b[39m : \u001b[38;5;66;03m# collective anomaly\u001b[39;00m\n",
      "\u001b[0;31mKeyboardInterrupt\u001b[0m: "
     ]
    }
   ],
   "source": [
    "capa_cpts((cpts,domain_cpts,cardinality_cpts,push_cpts))"
   ]
  }
 ],
 "metadata": {
  "kernelspec": {
   "display_name": "Python 3 (ipykernel)",
   "language": "python",
   "name": "python3"
  },
  "language_info": {
   "codemirror_mode": {
    "name": "ipython",
    "version": 3
   },
   "file_extension": ".py",
   "mimetype": "text/x-python",
   "name": "python",
   "nbconvert_exporter": "python",
   "pygments_lexer": "ipython3",
   "version": "3.11.0"
  }
 },
 "nbformat": 4,
 "nbformat_minor": 5
}
