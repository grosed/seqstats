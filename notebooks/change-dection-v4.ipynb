{
 "cells": [
  {
   "cell_type": "code",
   "execution_count": 1,
   "id": "4ad6af0d-cc9d-4d51-8acc-7512349b0efa",
   "metadata": {},
   "outputs": [],
   "source": [
    "import numpy as np\n",
    "import matplotlib.pyplot as plt\n",
    "from collections import deque\n",
    "from pymonad.tools import curry\n",
    "from math import sqrt,log,inf\n",
    "from functools import reduce\n",
    "from statistics import mean,stdev"
   ]
  },
  {
   "cell_type": "markdown",
   "id": "9af35ba0-fdfb-446c-809b-0eb95e9465c5",
   "metadata": {},
   "source": [
    "## Utilities"
   ]
  },
  {
   "cell_type": "code",
   "execution_count": 2,
   "id": "e365939a-e9b2-4c5a-9f3a-e2415e0370db",
   "metadata": {},
   "outputs": [],
   "source": [
    "# importing reduce() from functools\n",
    "from functools import reduce\n",
    "def compose(*funcs):\n",
    "    return reduce(lambda f,g : lambda x : f(g(x)), funcs, lambda x : x)"
   ]
  },
  {
   "cell_type": "code",
   "execution_count": 3,
   "id": "4cee9cc9-829c-4b10-a8b3-e491d700d54c",
   "metadata": {},
   "outputs": [],
   "source": [
    "# patterns : [closure,class,object]\n",
    "def class_sumstats(size = None) : # sumstats class (a factory)\n",
    "    wsize = size if size == None else size + 1 \n",
    "    sumstats = deque([(0.0,0.0,0.0)],wsize)\n",
    "    def cardinality() :\n",
    "        nonlocal sumstats\n",
    "        return len(sumstats) - 1 \n",
    "    def domain() :\n",
    "        nonlocal sumstats\n",
    "        return range(len(sumstats)-1)\n",
    "    def push(y) :\n",
    "        nonlocal sumstats,wsize\n",
    "        last = sumstats[-1]\n",
    "        sumstats.append((y,last[1] + y,last[2] + y*y))\n",
    "        if len(sumstats) == sumstats.maxlen :\n",
    "            y0,sy0,syy0 = sumstats[0]\n",
    "            sumstats = deque([(y - y0,sy - sy0,syy - syy0) for y,sy,syy in sumstats],\n",
    "                             wsize)\n",
    "        return value,domain,cardinality,capacity,push\n",
    "    def capacity() :\n",
    "        nonlocal wsize\n",
    "        return inf if wsize == None else wsize\n",
    "    def value(i) :\n",
    "        return sumstats[i]\n",
    "    return value,domain,cardinality,capacity,push"
   ]
  },
  {
   "cell_type": "code",
   "execution_count": 4,
   "id": "b508fa80-101c-4175-a140-b80a86458956",
   "metadata": {},
   "outputs": [],
   "source": [
    "def class_normal_mean_segment_cost(sumstats) :\n",
    "    ss_value,ss_domain,ss_cardinality = sumstats\n",
    "    def cardinality() :\n",
    "        nonlocal ss_cardinality\n",
    "        n = ss_cardinality()\n",
    "        return int(n*(n+1)/2)\n",
    "    def value(a,b) :\n",
    "        nonlocal ss_value\n",
    "        _,sya,syya = ss_value(a)\n",
    "        _,syb,syyb = ss_value(b+1)\n",
    "        val = syb - sya\n",
    "        val *= val\n",
    "        val /= (b - a + 1)\n",
    "        val = -val\n",
    "        val += syyb - syya\n",
    "        return val\n",
    "    def domain() :\n",
    "        nonlocal ss_domain\n",
    "        outer = ss_domain()\n",
    "        for a in outer :\n",
    "            inner = ss_domain()\n",
    "            for b in inner :\n",
    "                if b >= a :\n",
    "                    yield (a,b)\n",
    "    return value,domain,cardinality\n",
    "        "
   ]
  },
  {
   "cell_type": "code",
   "execution_count": 5,
   "id": "8fe54c38-e8df-4099-b74e-89413c54a77b",
   "metadata": {},
   "outputs": [],
   "source": [
    "def class_right_cost(segment_cost) :\n",
    "    sc_value,sc_domain,sc_cardinality = segment_cost\n",
    "    def cardinality() :\n",
    "        nonlocal sc_cardinality\n",
    "        return int((sqrt(8*sc_cardinality()+1)-1)/2)\n",
    "    def domain() :\n",
    "        return range(cardinality())\n",
    "    def value(i) :\n",
    "        nonlocal sc_value\n",
    "        return sc_value(i,cardinality()-1)\n",
    "    return value,domain,cardinality"
   ]
  },
  {
   "cell_type": "code",
   "execution_count": 6,
   "id": "4f344cbd-1353-4fd2-a15e-50d35eb2c86c",
   "metadata": {},
   "outputs": [],
   "source": [
    "def class_left_cost(segment_cost) :\n",
    "    sc_value,sc_domain,sc_cardinality = segment_cost\n",
    "    def cardinality() :\n",
    "        nonlocal sc_cardinality\n",
    "        return int((sqrt(8*sc_cardinality()+1)-1)/2)\n",
    "    def domain() :\n",
    "        return range(cardinality())\n",
    "    def value(i) :\n",
    "        nonlocal sc_value\n",
    "        return sc_value(0,i)\n",
    "    return value,domain,cardinality"
   ]
  },
  {
   "cell_type": "code",
   "execution_count": 7,
   "id": "90fa8c61-45a5-4a01-bec6-483197d93439",
   "metadata": {},
   "outputs": [],
   "source": [
    "def class_left_right_cost(left_cost,right_cost) :\n",
    "    l_value,_,_ = left_cost\n",
    "    r_value,domain,cardinality = right_cost\n",
    "    def value(i) :\n",
    "        nonlocal l_value,r_value\n",
    "        res = r_value(i)\n",
    "        if i == 0 :\n",
    "            return res\n",
    "        return l_value(i-1) + res\n",
    "    return value,domain,cardinality"
   ]
  },
  {
   "cell_type": "code",
   "execution_count": 8,
   "id": "77127919-d96e-4802-83e5-7520d3ee5de2",
   "metadata": {},
   "outputs": [],
   "source": [
    "def class_summed_cost(segment_cost) :\n",
    "    sc_value,sc_domain,sc_cardinality = segment_cost\n",
    "    def cardinality() :\n",
    "        nonlocal sc_cardinality\n",
    "        return int((sqrt(8*sc_cardinality()+1)-1)/2)\n",
    "    def domain() :\n",
    "        return range(cardinality())\n",
    "    def value(i) :\n",
    "        nonlocal sc_value\n",
    "        b = cardinality()-1\n",
    "        res = sc_value(i,b)\n",
    "        if i == 0 :\n",
    "            return res\n",
    "        return sc_value(0,i-1) + res\n",
    "    return value,domain,cardinality"
   ]
  },
  {
   "cell_type": "code",
   "execution_count": 9,
   "id": "cc69f5fc-cc57-4cd8-a9b1-9ad23576374b",
   "metadata": {},
   "outputs": [],
   "source": [
    "def split(cost) :\n",
    "    value,domain,_ = cost\n",
    "    vmin,loc = min([(value(i),i) for i in domain()])\n",
    "    return (value(0) - vmin,loc-1)"
   ]
  },
  {
   "cell_type": "code",
   "execution_count": 10,
   "id": "90ed4747-b896-47ea-9fe2-82ecb05db596",
   "metadata": {},
   "outputs": [],
   "source": [
    "@curry(3)\n",
    "def scale(mu,sigma,x) :\n",
    "    return (x - mu)/sigma"
   ]
  },
  {
   "cell_type": "code",
   "execution_count": 11,
   "id": "63cac506-0c37-48e7-ad72-59abed6f5079",
   "metadata": {},
   "outputs": [],
   "source": [
    "def class_ordered_function(ordered) :\n",
    "    def cardinality() :\n",
    "        nonlocal ordered\n",
    "        return len(ordered)\n",
    "    def domain() :\n",
    "        return range(cardinality())\n",
    "    def value(i) :\n",
    "        nonlocal ordered\n",
    "        return ordered[i]\n",
    "    def push(val) :\n",
    "        nonlocal ordered\n",
    "        ordered.append(val)\n",
    "        return value,domain,cardinality,push,insert\n",
    "    def insert(i,x) :\n",
    "        nonlocal ordered\n",
    "        ordered[i] = x\n",
    "    return value,domain,cardinality,push,insert"
   ]
  },
  {
   "cell_type": "code",
   "execution_count": null,
   "id": "b13f9b01-26a9-4a53-832e-16fd7ffbdca9",
   "metadata": {},
   "outputs": [],
   "source": []
  },
  {
   "cell_type": "markdown",
   "id": "8db3fba3-08ba-4d88-ab9b-7621c2cc256f",
   "metadata": {},
   "source": [
    "## Cost Functions"
   ]
  },
  {
   "cell_type": "code",
   "execution_count": 12,
   "id": "176518b6-d1db-409a-9f06-8549d7dcc296",
   "metadata": {},
   "outputs": [],
   "source": [
    "def normal_mean(size) :\n",
    "    value,domain,cardinality,capacity,push = class_sumstats(size)\n",
    "    value,domain,cardinality = class_normal_mean_segment_cost((value,domain,cardinality))\n",
    "    return value,domain,cardinality,capacity,push"
   ]
  },
  {
   "cell_type": "markdown",
   "id": "7702107e-c8f6-49b3-9ea5-9263c7790b21",
   "metadata": {},
   "source": [
    "## At Most One Change (AMOC)"
   ]
  },
  {
   "cell_type": "code",
   "execution_count": 13,
   "id": "8dd45b84-3792-4aa5-9660-359596d565fe",
   "metadata": {},
   "outputs": [],
   "source": [
    "def amoc(cost) :\n",
    "    value,domain,cardinality,_,push_cost = cost\n",
    "    left = class_left_cost((value,domain,cardinality))\n",
    "    right = class_right_cost((value,domain,cardinality))\n",
    "    value,domain,cardinality = class_left_right_cost(left,right)\n",
    "    def push(x) :\n",
    "        nonlocal value,domain,cardinality,push_cost\n",
    "        push_cost(x)\n",
    "        return split((value,domain,_))\n",
    "    return push      "
   ]
  },
  {
   "cell_type": "markdown",
   "id": "05217875-d401-4ec2-aca4-54174f547277",
   "metadata": {},
   "source": [
    "## AMOC example 1"
   ]
  },
  {
   "cell_type": "code",
   "execution_count": 14,
   "id": "0ec50495-9db0-45de-bdf3-79d1efbb4e47",
   "metadata": {},
   "outputs": [],
   "source": [
    "np.random.seed(0)\n",
    "Z = [float(z) for z in list(np.random.normal(0, 1, 1000)) + \n",
    "    list(np.random.normal(1, 1, 1000)) +\n",
    "    list(np.random.normal(0, 1, 1000))]\n",
    "\n",
    "scan = compose(amoc(normal_mean(200)),scale(mean(Z),stdev(Z)))\n",
    "beta = 2*log(len(Z))\n",
    "history = list()\n",
    "i = 0\n",
    "for z in Z : \n",
    "    v,p = res = scan(z)\n",
    "    history.append(res)\n",
    "    if v > beta :\n",
    "        pass\n",
    "        # print(\"alarm at  \" + str(p) + \" at time \" + str(i))\n",
    "    i += 1"
   ]
  },
  {
   "cell_type": "code",
   "execution_count": 15,
   "id": "bc3e5148-574b-4c59-b8fb-5b3e41da08b9",
   "metadata": {},
   "outputs": [
    {
     "data": {
      "text/plain": [
       "[<matplotlib.lines.Line2D at 0x7654c9571c10>]"
      ]
     },
     "execution_count": 15,
     "metadata": {},
     "output_type": "execute_result"
    },
    {
     "data": {
      "image/png": "[encoded data removed]",
      "text/plain": [
       "<Figure size 640x480 with 1 Axes>"
      ]
     },
     "metadata": {},
     "output_type": "display_data"
    }
   ],
   "source": [
    "plt.plot([v for v,_ in history])"
   ]
  },
  {
   "cell_type": "markdown",
   "id": "8c0c3ef2-cd88-4781-a526-318200b5b074",
   "metadata": {},
   "source": [
    "## Optimal Partitioning (OP)"
   ]
  },
  {
   "cell_type": "code",
   "execution_count": 16,
   "id": "c163f7d3-0375-4dda-abb4-09f3945e2721",
   "metadata": {},
   "outputs": [],
   "source": [
    "def op_cpts(cpts) :\n",
    "    value,_,cardinality,_,_ = cpts\n",
    "    pos = cardinality() - 1\n",
    "    locations = []\n",
    "    while pos > 0 :\n",
    "        pos = pos - value(pos)\n",
    "        locations = [pos] + locations\n",
    "    return locations[1:]"
   ]
  },
  {
   "cell_type": "code",
   "execution_count": 17,
   "id": "87193f0f-c63b-49ee-b1ee-41180c2f366b",
   "metadata": {},
   "outputs": [],
   "source": [
    "def op(S,x,beta) :\n",
    "    cost,F,cpts = S\n",
    "    value,domain,cardinality,capacity,push_cost = cost\n",
    "    right = class_right_cost((value,domain,cardinality))\n",
    "    F_value,domain_F,cardinality_F,push_F,_ = F\n",
    "    cpts_value,domain_cpts,cardinality_cpts,push_cpts,_ = cpts\n",
    "    push_cost(x)\n",
    "    value,domain,cardinality = class_left_right_cost((F_value,domain_F,cardinality_F),right)\n",
    "    severity,location = split((value,domain,cardinality))\n",
    "    if severity > beta :\n",
    "        push_F(value(location) + beta)\n",
    "        push_cpts(cardinality_cpts() - location)\n",
    "    else :\n",
    "        push_F(value(0))\n",
    "        push_cpts(cardinality_cpts())\n",
    "    return cost,F,cpts\n",
    "\n",
    "                           "
   ]
  },
  {
   "cell_type": "markdown",
   "id": "e8359bc8-69eb-4f11-8c23-34b178e4bdd3",
   "metadata": {},
   "source": [
    "## Changepoint"
   ]
  },
  {
   "cell_type": "code",
   "execution_count": 18,
   "id": "79471648-9f91-4bc3-9ba0-c288cdcca0ff",
   "metadata": {},
   "outputs": [],
   "source": [
    "def scale_F(S) :\n",
    "    cost,F,cpts = S\n",
    "    value,domain,_,_,_ = F\n",
    "    _,_,_,capacity,_ = cost\n",
    "    f0 = value(0)\n",
    "    F = class_ordered_function(deque([value(i) - f0 for i in domain()],maxlen=capacity()))\n",
    "    return cost,F,cpts"
   ]
  },
  {
   "cell_type": "code",
   "execution_count": 19,
   "id": "69941a1a-fa2c-47ab-927e-dafd68fc759f",
   "metadata": {},
   "outputs": [],
   "source": [
    "def changepoint(cost,beta) :\n",
    "    _,_,_,capacity,_ = cost\n",
    "    F = class_ordered_function(deque([],maxlen=capacity()))\n",
    "    cpts = class_ordered_function(deque([],maxlen=capacity()))\n",
    "    S = (cost,F,cpts)\n",
    "    def push(x) :\n",
    "        nonlocal S,beta\n",
    "        _,_,cpts = S = op(S,x,beta)\n",
    "        S = scale_F(S)\n",
    "        return op_cpts(cpts)\n",
    "    return push\n"
   ]
  },
  {
   "cell_type": "markdown",
   "id": "27da16e8-59ab-4412-8b73-2ff075b1f1a8",
   "metadata": {},
   "source": [
    "## Changepoints Example 1"
   ]
  },
  {
   "cell_type": "code",
   "execution_count": 20,
   "id": "94ee54af-8347-4c88-a14a-d9716a574ee5",
   "metadata": {},
   "outputs": [],
   "source": [
    "np.random.seed(1)\n",
    "Z = [float(z) for z in list(np.random.normal(0, 1, 900)) + \n",
    "    list(np.random.normal(1, 1, 200)) +\n",
    "    list(np.random.normal(0, 1, 900))]\n",
    "\n",
    "beta = 3*log(len(Z))\n",
    "cost = normal_mean(2000)\n",
    "scan = compose(changepoint(cost,beta),scale(mean(Z),stdev(Z)))\n",
    "history = list()\n",
    "for z in Z :\n",
    "    history.append(scan(z))\n"
   ]
  },
  {
   "cell_type": "code",
   "execution_count": 21,
   "id": "0af991b4-4f61-4b78-b78b-5b4588155257",
   "metadata": {},
   "outputs": [
    {
     "data": {
      "text/plain": [
       "[899, 1101]"
      ]
     },
     "execution_count": 21,
     "metadata": {},
     "output_type": "execute_result"
    }
   ],
   "source": [
    "history[-1]"
   ]
  },
  {
   "cell_type": "markdown",
   "id": "53657cf8-52da-408d-a317-2f47ec5bbedb",
   "metadata": {},
   "source": [
    "## CAPA"
   ]
  },
  {
   "cell_type": "code",
   "execution_count": 83,
   "id": "b7436e4a-c6cd-4900-b60e-666905ddebeb",
   "metadata": {},
   "outputs": [],
   "source": [
    "def capa_normal_mean(size) :\n",
    "    return (normal_mean(size),\n",
    "            lambda x,beta,beta_dash : x*x,\n",
    "            lambda x,beta,beta_dash : 1 + beta_dash)"
   ]
  },
  {
   "cell_type": "code",
   "execution_count": 67,
   "id": "df30c55e-7a17-41c0-8a44-c25e3b02ea0e",
   "metadata": {},
   "outputs": [],
   "source": [
    "def capa_cpts(cpts) :\n",
    "    value,_,cardinality,_,_ = cpts\n",
    "    pos = cardinality() - 1\n",
    "    locations = []\n",
    "    while pos > 0 :\n",
    "        location,category = value(pos) # no anomaly\n",
    "        if category == 0 : # collective anomaly\n",
    "            locations.insert(0,(pos-location,pos))\n",
    "        pos = pos - location\n",
    "        if category == 2 : # point anomaly\n",
    "            locations.insert(0,pos)\n",
    "    return locations"
   ]
  },
  {
   "cell_type": "code",
   "execution_count": 89,
   "id": "a7d1c77f-582c-4e49-ba61-aa43f1af0f9b",
   "metadata": {},
   "outputs": [],
   "source": [
    "def capa(cost,beta,beta_dash) :\n",
    "    C1,C2,C3 = cost\n",
    "    cost = C1\n",
    "    _,_,_,capacity,_ = cost\n",
    "    F = class_ordered_function(deque([],maxlen=capacity()))\n",
    "    cpts = class_ordered_function(deque([],maxlen=capacity()))\n",
    "    S = (cost,F,cpts)\n",
    "    def push(x) :\n",
    "        nonlocal S,beta,beta_dash\n",
    "        (_,_,_,capacity,_),(value,_,cardinality,_,_),_ = S\n",
    "        fprev = inf\n",
    "        if cardinality() > 1 :\n",
    "            fprev = value(cardinality()-1)\n",
    "        _,F,cpts = S = op(S,x,beta)\n",
    "        value,_,cardinality,push,insert = F\n",
    "        f = value(cardinality()-1)\n",
    "        value,_,cardinality,_,_ = cpts\n",
    "        pos = value(cardinality()-1)\n",
    "        value,category = min((f,0),(fprev+C2(x,beta,beta_dash),1),(fprev+C3(x,beta,beta_dash),2))\n",
    "        insert(cardinality()-1,value)\n",
    "        _,_,cardinality,_,insert = cpts\n",
    "        insert(cardinality()-1,(pos,category))\n",
    "        S = scale_F(S)\n",
    "        return capa_cpts(cpts)\n",
    "    return push\n",
    "    \n",
    "    "
   ]
  },
  {
   "cell_type": "code",
   "execution_count": 92,
   "id": "6897daef-26e9-4af2-94e1-774dda196400",
   "metadata": {},
   "outputs": [
    {
     "data": {
      "text/plain": [
       "[199, (900, 1101)]"
      ]
     },
     "execution_count": 92,
     "metadata": {},
     "output_type": "execute_result"
    }
   ],
   "source": [
    "np.random.seed(1)\n",
    "Z = [float(z) for z in list(np.random.normal(0, 1, 900)) + \n",
    "    list(np.random.normal(1, 1, 200)) +\n",
    "    list(np.random.normal(0, 1, 900))]\n",
    "Z[200] = 10\n",
    "\n",
    "trans = scale(mean(Z),stdev(Z))\n",
    "beta = 4*log(len(Z))\n",
    "beta_dash = 3*log(len(Z))\n",
    "cost = capa_normal_mean(2000)\n",
    "\n",
    "scan = compose(capa(cost,beta,beta_dash),scale(mean(Z),stdev(Z)))\n",
    "history = list()\n",
    "for z in Z :\n",
    "    history.append(scan(z))\n",
    "\n",
    "history[1999]"
   ]
  }
 ],
 "metadata": {
  "kernelspec": {
   "display_name": "Python 3 (ipykernel)",
   "language": "python",
   "name": "python3"
  },
  "language_info": {
   "codemirror_mode": {
    "name": "ipython",
    "version": 3
   },
   "file_extension": ".py",
   "mimetype": "text/x-python",
   "name": "python",
   "nbconvert_exporter": "python",
   "pygments_lexer": "ipython3",
   "version": "3.11.0"
  }
 },
 "nbformat": 4,
 "nbformat_minor": 5
}
